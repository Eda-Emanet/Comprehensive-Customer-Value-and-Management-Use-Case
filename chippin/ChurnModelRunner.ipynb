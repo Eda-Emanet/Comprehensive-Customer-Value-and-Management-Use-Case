{
 "cells": [
  {
   "cell_type": "code",
   "execution_count": 8,
   "id": "d3d39021-eefa-4b7f-8a75-4b111cab2e56",
   "metadata": {},
   "outputs": [
    {
     "name": "stdout",
     "output_type": "stream",
     "text": [
      "Test Seti Doğruluk Skoru: 0.7054292692090927\n",
      "\n",
      "Sınıflandırma Raporu:\n",
      "              precision    recall  f1-score   support\n",
      "\n",
      "           0       0.75      0.77      0.76     16415\n",
      "           1       0.62      0.59      0.61     10200\n",
      "\n",
      "    accuracy                           0.71     26615\n",
      "   macro avg       0.69      0.68      0.69     26615\n",
      "weighted avg       0.70      0.71      0.70     26615\n",
      "\n",
      "Model saved to models\\churn_model.pkl\n"
     ]
    }
   ],
   "source": [
    "import os\n",
    "from dotenv import load_dotenv\n",
    "import pandas as pd\n",
    "from data_loader import DataLoader\n",
    "from data_cleaner import DataCleaner\n",
    "from feature_engineer import FeatureEngineer\n",
    "from rfm_calculator import RFMCalculator\n",
    "from saver import ModelSaver\n",
    "from churn import ChurnModel\n",
    "\n",
    "def main():\n",
    "    load_dotenv()\n",
    "\n",
    "    \n",
    "    best_path = os.getenv('BEST_PATH')\n",
    "    cust_path = os.getenv('CUST_PATH')\n",
    "    trx_path = os.getenv('TRX_PATH')\n",
    "\n",
    "    if not all([best_path, cust_path, trx_path]):\n",
    "        raise ValueError(\"Path yok\")\n",
    "\n",
    "    \n",
    "    loader = DataLoader(best_path, cust_path, trx_path)\n",
    "    best, cust, trx = loader.load_data()\n",
    "\n",
    "    \n",
    "    merged_trx = pd.merge(trx, cust, on='cb_customer_id', how='inner')\n",
    "    df = pd.merge(merged_trx, best, on='unique_customer_id', how='left')\n",
    "    df.drop_duplicates(inplace=True)\n",
    "\n",
    "    \n",
    "    cleaner = DataCleaner(df)\n",
    "    df = cleaner.clean_gender_data()\n",
    "    df = cleaner.convert_date_columns()\n",
    "    df = cleaner.drop_unnecessary_columns()\n",
    "\n",
    "    \n",
    "    engineer = FeatureEngineer(df)\n",
    "    df = engineer.add_feature_columns()\n",
    "\n",
    "    \n",
    "    rfm_calculator = RFMCalculator(df)\n",
    "    rfm = rfm_calculator.calculate_rfm()\n",
    "    rfm = rfm_calculator.assign_rfm_scores()\n",
    "\n",
    "    \n",
    "    processed_data = engineer.add_additional_features(rfm)\n",
    "\n",
    "    \n",
    "    churn_model = ChurnModel(processed_data)\n",
    "    churn_model.run()\n",
    "\n",
    "   \n",
    "    saver = ModelSaver()\n",
    "    saver.save_model(churn_model, 'churn_model')\n",
    "\n",
    "if __name__ == \"__main__\":\n",
    "    main()"
   ]
  }
 ],
 "metadata": {
  "kernelspec": {
   "display_name": "Python 3 (ipykernel)",
   "language": "python",
   "name": "python3"
  },
  "language_info": {
   "codemirror_mode": {
    "name": "ipython",
    "version": 3
   },
   "file_extension": ".py",
   "mimetype": "text/x-python",
   "name": "python",
   "nbconvert_exporter": "python",
   "pygments_lexer": "ipython3",
   "version": "3.9.12"
  }
 },
 "nbformat": 4,
 "nbformat_minor": 5
}
