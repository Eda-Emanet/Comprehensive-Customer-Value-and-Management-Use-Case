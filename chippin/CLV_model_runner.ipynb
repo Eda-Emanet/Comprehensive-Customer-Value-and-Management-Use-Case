{
 "cells": [
  {
   "cell_type": "code",
   "execution_count": 5,
   "id": "b70ac505-a27b-4951-99a4-55108e1162e5",
   "metadata": {},
   "outputs": [
    {
     "name": "stderr",
     "output_type": "stream",
     "text": [
      "C:\\Users\\eddem\\chippin\\feature_engineer.py:45: SettingWithCopyWarning: \n",
      "A value is trying to be set on a copy of a slice from a DataFrame\n",
      "\n",
      "See the caveats in the documentation: https://pandas.pydata.org/pandas-docs/stable/user_guide/indexing.html#returning-a-view-versus-a-copy\n"
     ]
    },
    {
     "name": "stdout",
     "output_type": "stream",
     "text": [
      "Test RMSE: 0.43362311880544013\n",
      "Test R^2 Score: 0.8180214935904436\n",
      "Test Adjusted R^2 Score: 0.8179941386853088\n",
      "Model saved to models\\clv_model.pkl\n"
     ]
    }
   ],
   "source": [
    "import os\n",
    "from dotenv import load_dotenv\n",
    "import pandas as pd\n",
    "from data_loader import DataLoader\n",
    "from data_cleaner import DataCleaner\n",
    "from feature_engineer import FeatureEngineer\n",
    "from rfm_calculator import RFMCalculator\n",
    "from saver import ModelSaver\n",
    "from CLV_model import CLVModel\n",
    "\n",
    "def main():\n",
    "    load_dotenv()\n",
    "\n",
    "    \n",
    "    best_path = os.getenv('BEST_PATH')\n",
    "    cust_path = os.getenv('CUST_PATH')\n",
    "    trx_path = os.getenv('TRX_PATH')\n",
    "\n",
    "    if not all([best_path, cust_path, trx_path]):\n",
    "        raise ValueError(\"Path yok\")\n",
    "\n",
    "    #\n",
    "    loader = DataLoader(best_path, cust_path, trx_path)\n",
    "    best, cust, trx = loader.load_data()\n",
    "\n",
    "    \n",
    "    merged_trx = pd.merge(trx, cust, on='cb_customer_id', how='inner')\n",
    "    df = pd.merge(merged_trx, best, on='unique_customer_id', how='left')\n",
    "    df.drop_duplicates(inplace=True)\n",
    "\n",
    "    \n",
    "    cleaner = DataCleaner(df)\n",
    "    df = cleaner.clean_gender_data()\n",
    "    df = cleaner.convert_date_columns()\n",
    "    df = cleaner.drop_unnecessary_columns()\n",
    "\n",
    "    \n",
    "    engineer = FeatureEngineer(df)\n",
    "    df = engineer.add_feature_columns()\n",
    "\n",
    "    \n",
    "    rfm_calculator = RFMCalculator(df)\n",
    "    rfm = rfm_calculator.calculate_rfm()\n",
    "    rfm = rfm_calculator.assign_rfm_scores()\n",
    "\n",
    "   \n",
    "    processed_data = engineer.add_additional_features(rfm)\n",
    "\n",
    "    \n",
    "    clv_model = CLVModel(processed_data)\n",
    "    clv_model.run()\n",
    "\n",
    "    \n",
    "    saver = ModelSaver()\n",
    "    saver.save_model(clv_model, 'clv_model')\n",
    "\n",
    "if __name__ == \"__main__\":\n",
    "    main()"
   ]
  }
 ],
 "metadata": {
  "kernelspec": {
   "display_name": "Python 3 (ipykernel)",
   "language": "python",
   "name": "python3"
  },
  "language_info": {
   "codemirror_mode": {
    "name": "ipython",
    "version": 3
   },
   "file_extension": ".py",
   "mimetype": "text/x-python",
   "name": "python",
   "nbconvert_exporter": "python",
   "pygments_lexer": "ipython3",
   "version": "3.9.12"
  }
 },
 "nbformat": 4,
 "nbformat_minor": 5
}
