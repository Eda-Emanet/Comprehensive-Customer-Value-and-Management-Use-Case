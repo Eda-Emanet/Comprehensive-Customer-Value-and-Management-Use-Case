{
 "cells": [
  {
   "attachments": {
    "60937762-3ee0-496e-8bcb-79a0434224a6.png": {
     "image/png": "[encoded data removed]"
    }
   },
   "cell_type": "markdown",
   "id": "2ed4ceda-eb1b-4353-9aa9-5e3e5a7f5475",
   "metadata": {},
   "source": [
    "![image.png](attachment:60937762-3ee0-496e-8bcb-79a0434224a6.png)\n",
    "\n",
    "# Comprehensive Customer Value and Management Use Case  \n",
    "\n",
    "\n"
   ]
  },
  {
   "cell_type": "code",
   "execution_count": 2,
   "id": "b7deaead-d0fe-48a6-ac4d-464656347094",
   "metadata": {},
   "outputs": [],
   "source": [
    "import pandas as pd \n",
    "import numpy as np\n",
    "from sklearn.cluster import KMeans\n",
    "from scipy.stats import kstest\n",
    "import plotly.express as px\n",
    "import plotly.graph_objects as go\n",
    "import openpyxl\n",
    "from datetime import datetime\n",
    "from sklearn.model_selection import train_test_split\n",
    "from sklearn.ensemble import RandomForestRegressor\n",
    "from sklearn.metrics import mean_squared_error, r2_score\n",
    "from sklearn.preprocessing import StandardScaler\n",
    "from sklearn.linear_model import LinearRegression\n",
    "from sklearn.ensemble import RandomForestRegressor, GradientBoostingRegressor\n",
    "from sklearn.preprocessing import StandardScaler\n",
    "from sklearn.metrics import mean_squared_error, r2_score\n",
    "from sklearn.ensemble import AdaBoostRegressor, ExtraTreesRegressor\n",
    "from sklearn.tree import DecisionTreeRegressor\n",
    "from sklearn.neighbors import KNeighborsRegressor\n",
    "from sklearn.svm import SVR\n",
    "import matplotlib.pyplot as plt\n",
    "import seaborn as sns\n",
    "import warnings\n",
    "from sklearn.model_selection import train_test_split\n",
    "from sklearn.preprocessing import StandardScaler\n",
    "import seaborn as sns\n",
    "import matplotlib.pyplot as plt\n",
    "from sklearn.ensemble import RandomForestClassifier\n",
    "from sklearn.metrics import confusion_matrix\n",
    "from sklearn.metrics import classification_report, accuracy_score\n",
    "from sklearn.pipeline import Pipeline\n",
    "from sklearn.metrics import make_scorer, f1_score\n",
    "from sklearn.preprocessing import RobustScaler\n",
    "from imblearn.over_sampling import SMOTE\n",
    "import time \n",
    "from sklearn.svm import SVC\n",
    "from sklearn.tree import DecisionTreeClassifier  \n",
    "from sklearn.ensemble import AdaBoostClassifier \n",
    "from sklearn.ensemble import GradientBoostingClassifier\n",
    "from sklearn.neighbors import KNeighborsClassifier \n",
    "from sklearn.linear_model import LogisticRegression\n",
    "from xgboost import XGBClassifier,XGBRegressor\n",
    "from lightgbm import LGBMClassifier,LGBMRegressor\n",
    "from sklearn.metrics import precision_score\n",
    "from sklearn.metrics import recall_score, f1_score\n",
    "from sklearn.metrics import roc_auc_score\n",
    "from sklearn.model_selection import cross_val_score\n",
    "from sklearn.preprocessing import MinMaxScaler\n",
    "import shap\n",
    "from sklearn.model_selection import RandomizedSearchCV\n",
    "from scipy.stats import randint\n",
    "from sklearn.preprocessing import StandardScaler, MinMaxScaler, RobustScaler\n",
    "from sklearn.model_selection import GridSearchCV\n",
    "from sklearn.pipeline import Pipeline\n",
    "from lightgbm import LGBMClassifier\n",
    "\n",
    "\n",
    "\n",
    "SEED = 42\n",
    "warnings.filterwarnings(\"ignore\")\n",
    "\n"
   ]
  },
  {
   "cell_type": "markdown",
   "id": "289e6e04-58f3-403f-9b2c-a1981445e0e0",
   "metadata": {},
   "source": [
    "# Dataset"
   ]
  },
  {
   "cell_type": "markdown",
   "id": "1db9f927-f4e3-48d7-89cd-f7bd7df57e88",
   "metadata": {},
   "source": [
    "- The dataset is provided in 3 separate CSV files and contains 133,074 unique cb_customer_ids.\n",
    "- The \"best\" dataset consists of 3 columns.\n",
    "- The \"gender\" column is mostly labeled as \"UNKNOWN\".\n",
    "- There are 130,536 null values in the date_of_birth column.\n",
    "- The date_of_birth column contains incorrect birth dates (e.g., 2069, 2055).\n",
    "- As seen in the pairplot() graph, the distributions of amount_after_discount, amount_before_discount, and amount_discount are similar (this can be clearly observed in the histogram)."
   ]
  },
  {
   "cell_type": "code",
   "execution_count": 41,
   "id": "c8fa5953-ed43-4c13-a808-7b4c6ad7831d",
   "metadata": {
    "tags": []
   },
   "outputs": [],
   "source": [
    "best = pd.read_csv('./cust_best_sample.csv') \n",
    "cust = pd.read_csv('./cust_sample.csv') \n",
    "trx = pd.read_csv('./trx_sample.csv') "
   ]
  },
  {
   "cell_type": "code",
   "execution_count": 42,
   "id": "72848038-9841-449f-9813-2f506c3fbec6",
   "metadata": {
    "scrolled": true
   },
   "outputs": [
    {
     "name": "stdout",
     "output_type": "stream",
     "text": [
      "<class 'pandas.core.frame.DataFrame'>\n",
      "RangeIndex: 133074 entries, 0 to 133073\n",
      "Data columns (total 3 columns):\n",
      " #   Column              Non-Null Count   Dtype \n",
      "---  ------              --------------   ----- \n",
      " 0   unique_customer_id  133074 non-null  uint64\n",
      " 1   gender              133074 non-null  object\n",
      " 2   date_of_birth       2538 non-null    object\n",
      "dtypes: object(2), uint64(1)\n",
      "memory usage: 3.0+ MB\n",
      "unique_customer_id         0\n",
      "gender                     0\n",
      "date_of_birth         130536\n",
      "dtype: int64\n"
     ]
    }
   ],
   "source": [
    "best.info()\n",
    "print(best.isnull().sum())  "
   ]
  },
  {
   "cell_type": "code",
   "execution_count": 43,
   "id": "5f69c32c-009b-44f0-aa5b-2c84d224d7c9",
   "metadata": {},
   "outputs": [
    {
     "data": {
      "text/html": [
       "<div>\n",
       "<style scoped>\n",
       "    .dataframe tbody tr th:only-of-type {\n",
       "        vertical-align: middle;\n",
       "    }\n",
       "\n",
       "    .dataframe tbody tr th {\n",
       "        vertical-align: top;\n",
       "    }\n",
       "\n",
       "    .dataframe thead th {\n",
       "        text-align: right;\n",
       "    }\n",
       "</style>\n",
       "<table border=\"1\" class=\"dataframe\">\n",
       "  <thead>\n",
       "    <tr style=\"text-align: right;\">\n",
       "      <th></th>\n",
       "      <th>unique_customer_id</th>\n",
       "      <th>gender</th>\n",
       "      <th>date_of_birth</th>\n",
       "    </tr>\n",
       "  </thead>\n",
       "  <tbody>\n",
       "    <tr>\n",
       "      <th>14</th>\n",
       "      <td>10760773275552365563</td>\n",
       "      <td>UNKNOWN</td>\n",
       "      <td>2069-08-14</td>\n",
       "    </tr>\n",
       "    <tr>\n",
       "      <th>520</th>\n",
       "      <td>7119492680593736990</td>\n",
       "      <td>UNKNOWN</td>\n",
       "      <td>2055-08-30</td>\n",
       "    </tr>\n",
       "    <tr>\n",
       "      <th>1294</th>\n",
       "      <td>17932542875492193526</td>\n",
       "      <td>UNKNOWN</td>\n",
       "      <td>2070-04-04</td>\n",
       "    </tr>\n",
       "    <tr>\n",
       "      <th>1579</th>\n",
       "      <td>12016634096935283071</td>\n",
       "      <td>UNKNOWN</td>\n",
       "      <td>2059-10-06</td>\n",
       "    </tr>\n",
       "    <tr>\n",
       "      <th>1810</th>\n",
       "      <td>14012553068184773835</td>\n",
       "      <td>UNKNOWN</td>\n",
       "      <td>2070-07-03</td>\n",
       "    </tr>\n",
       "    <tr>\n",
       "      <th>...</th>\n",
       "      <td>...</td>\n",
       "      <td>...</td>\n",
       "      <td>...</td>\n",
       "    </tr>\n",
       "    <tr>\n",
       "      <th>131298</th>\n",
       "      <td>3048551069142546515</td>\n",
       "      <td>UNKNOWN</td>\n",
       "      <td>2058-09-15</td>\n",
       "    </tr>\n",
       "    <tr>\n",
       "      <th>131993</th>\n",
       "      <td>16827578878166608146</td>\n",
       "      <td>UNKNOWN</td>\n",
       "      <td>2069-03-11</td>\n",
       "    </tr>\n",
       "    <tr>\n",
       "      <th>132014</th>\n",
       "      <td>2386529878023270049</td>\n",
       "      <td>UNKNOWN</td>\n",
       "      <td>2065-03-02</td>\n",
       "    </tr>\n",
       "    <tr>\n",
       "      <th>132756</th>\n",
       "      <td>13781583181726588381</td>\n",
       "      <td>UNKNOWN</td>\n",
       "      <td>2070-05-20</td>\n",
       "    </tr>\n",
       "    <tr>\n",
       "      <th>132931</th>\n",
       "      <td>15005885271799225136</td>\n",
       "      <td>UNKNOWN</td>\n",
       "      <td>2054-05-11</td>\n",
       "    </tr>\n",
       "  </tbody>\n",
       "</table>\n",
       "<p>409 rows × 3 columns</p>\n",
       "</div>"
      ],
      "text/plain": [
       "          unique_customer_id   gender date_of_birth\n",
       "14      10760773275552365563  UNKNOWN    2069-08-14\n",
       "520      7119492680593736990  UNKNOWN    2055-08-30\n",
       "1294    17932542875492193526  UNKNOWN    2070-04-04\n",
       "1579    12016634096935283071  UNKNOWN    2059-10-06\n",
       "1810    14012553068184773835  UNKNOWN    2070-07-03\n",
       "...                      ...      ...           ...\n",
       "131298   3048551069142546515  UNKNOWN    2058-09-15\n",
       "131993  16827578878166608146  UNKNOWN    2069-03-11\n",
       "132014   2386529878023270049  UNKNOWN    2065-03-02\n",
       "132756  13781583181726588381  UNKNOWN    2070-05-20\n",
       "132931  15005885271799225136  UNKNOWN    2054-05-11\n",
       "\n",
       "[409 rows x 3 columns]"
      ]
     },
     "execution_count": 43,
     "metadata": {},
     "output_type": "execute_result"
    }
   ],
   "source": [
    "best[best[\"date_of_birth\"]> \"2015-01-01\"] "
   ]
  },
  {
   "cell_type": "code",
   "execution_count": 44,
   "id": "491b596b-13e3-4def-8a21-ce3f58af2dcd",
   "metadata": {},
   "outputs": [
    {
     "data": {
      "text/html": [
       "<div>\n",
       "<style scoped>\n",
       "    .dataframe tbody tr th:only-of-type {\n",
       "        vertical-align: middle;\n",
       "    }\n",
       "\n",
       "    .dataframe tbody tr th {\n",
       "        vertical-align: top;\n",
       "    }\n",
       "\n",
       "    .dataframe thead th {\n",
       "        text-align: right;\n",
       "    }\n",
       "</style>\n",
       "<table border=\"1\" class=\"dataframe\">\n",
       "  <thead>\n",
       "    <tr style=\"text-align: right;\">\n",
       "      <th></th>\n",
       "      <th>cb_customer_id</th>\n",
       "      <th>transaction_date</th>\n",
       "      <th>amount_after_discount</th>\n",
       "      <th>cb_branch_id</th>\n",
       "      <th>amount_before_discount</th>\n",
       "      <th>amount_discount</th>\n",
       "      <th>unique_customer_id</th>\n",
       "      <th>gender</th>\n",
       "      <th>date_of_birth</th>\n",
       "    </tr>\n",
       "  </thead>\n",
       "  <tbody>\n",
       "    <tr>\n",
       "      <th>0</th>\n",
       "      <td>6821860387409851780</td>\n",
       "      <td>2016-07-26</td>\n",
       "      <td>-0.327119</td>\n",
       "      <td>90</td>\n",
       "      <td>-0.411608</td>\n",
       "      <td>-0.443104</td>\n",
       "      <td>14833856522183602191</td>\n",
       "      <td>UNKNOWN</td>\n",
       "      <td>NaN</td>\n",
       "    </tr>\n",
       "    <tr>\n",
       "      <th>1</th>\n",
       "      <td>6821860387409851780</td>\n",
       "      <td>2016-08-02</td>\n",
       "      <td>-0.327119</td>\n",
       "      <td>90</td>\n",
       "      <td>-0.411608</td>\n",
       "      <td>-0.443104</td>\n",
       "      <td>14833856522183602191</td>\n",
       "      <td>UNKNOWN</td>\n",
       "      <td>NaN</td>\n",
       "    </tr>\n",
       "    <tr>\n",
       "      <th>2</th>\n",
       "      <td>3372770238413923649</td>\n",
       "      <td>2016-06-20</td>\n",
       "      <td>-0.389015</td>\n",
       "      <td>26</td>\n",
       "      <td>-0.331083</td>\n",
       "      <td>-0.281383</td>\n",
       "      <td>219680563978627406</td>\n",
       "      <td>UNKNOWN</td>\n",
       "      <td>NaN</td>\n",
       "    </tr>\n",
       "    <tr>\n",
       "      <th>3</th>\n",
       "      <td>3220055865641973068</td>\n",
       "      <td>2016-06-15</td>\n",
       "      <td>-0.344771</td>\n",
       "      <td>90</td>\n",
       "      <td>-0.447712</td>\n",
       "      <td>-0.488551</td>\n",
       "      <td>13102778631438780637</td>\n",
       "      <td>UNKNOWN</td>\n",
       "      <td>NaN</td>\n",
       "    </tr>\n",
       "    <tr>\n",
       "      <th>4</th>\n",
       "      <td>1603206957613929399</td>\n",
       "      <td>2016-06-20</td>\n",
       "      <td>-1.139010</td>\n",
       "      <td>33</td>\n",
       "      <td>-1.580552</td>\n",
       "      <td>-1.771293</td>\n",
       "      <td>13698985552782800647</td>\n",
       "      <td>UNKNOWN</td>\n",
       "      <td>NaN</td>\n",
       "    </tr>\n",
       "  </tbody>\n",
       "</table>\n",
       "</div>"
      ],
      "text/plain": [
       "        cb_customer_id transaction_date  amount_after_discount  cb_branch_id  \\\n",
       "0  6821860387409851780       2016-07-26              -0.327119            90   \n",
       "1  6821860387409851780       2016-08-02              -0.327119            90   \n",
       "2  3372770238413923649       2016-06-20              -0.389015            26   \n",
       "3  3220055865641973068       2016-06-15              -0.344771            90   \n",
       "4  1603206957613929399       2016-06-20              -1.139010            33   \n",
       "\n",
       "   amount_before_discount  amount_discount    unique_customer_id   gender  \\\n",
       "0               -0.411608        -0.443104  14833856522183602191  UNKNOWN   \n",
       "1               -0.411608        -0.443104  14833856522183602191  UNKNOWN   \n",
       "2               -0.331083        -0.281383    219680563978627406  UNKNOWN   \n",
       "3               -0.447712        -0.488551  13102778631438780637  UNKNOWN   \n",
       "4               -1.580552        -1.771293  13698985552782800647  UNKNOWN   \n",
       "\n",
       "  date_of_birth  \n",
       "0           NaN  \n",
       "1           NaN  \n",
       "2           NaN  \n",
       "3           NaN  \n",
       "4           NaN  "
      ]
     },
     "execution_count": 44,
     "metadata": {},
     "output_type": "execute_result"
    }
   ],
   "source": [
    "merged_trx = pd.merge(trx, cust, on='cb_customer_id', how='inner')\n",
    "df = pd.merge(merged_trx, best, on='unique_customer_id', how='left')\n",
    "df.drop_duplicates(inplace=True)\n",
    "df_copy = df.copy()\n",
    "df_copy.head()"
   ]
  },
  {
   "cell_type": "code",
   "execution_count": 45,
   "id": "00e271d8-fe4f-4870-88b1-540554e91a38",
   "metadata": {},
   "outputs": [
    {
     "data": {
      "text/plain": [
       "<AxesSubplot:xlabel='count', ylabel='gender'>"
      ]
     },
     "execution_count": 45,
     "metadata": {},
     "output_type": "execute_result"
    },
    {
     "data": {
      "image/png": "[encoded data removed]",
      "text/plain": [
       "<Figure size 1440x216 with 1 Axes>"
      ]
     },
     "metadata": {
      "needs_background": "light"
     },
     "output_type": "display_data"
    }
   ],
   "source": [
    "fig = plt.figure(figsize=(20,3))\n",
    "sns.countplot(y=\"gender\", data=df_copy)"
   ]
  },
  {
   "cell_type": "code",
   "execution_count": 9,
   "id": "4ab3ecc2-5613-4911-bbc2-aa5868cedebc",
   "metadata": {},
   "outputs": [],
   "source": [
    "# UNKNOWN tanımlı satırları na olarak atadım.\n",
    "df_copy['gender'] = df_copy['gender'].replace('UNKNOWN', np.nan)"
   ]
  },
  {
   "cell_type": "markdown",
   "id": "01dd40e4-9df5-42a3-9ccd-6e5620d7c01a",
   "metadata": {},
   "source": [
    "# Data Exploration and Cleaning"
   ]
  },
  {
   "cell_type": "code",
   "execution_count": 10,
   "id": "2f1ec8ec-a1c8-4796-95e1-305c5e72b802",
   "metadata": {
    "scrolled": true
   },
   "outputs": [
    {
     "name": "stdout",
     "output_type": "stream",
     "text": [
      "#### Tanımlayıcı İstatistikler ###\n"
     ]
    },
    {
     "data": {
      "text/html": [
       "<div>\n",
       "<style scoped>\n",
       "    .dataframe tbody tr th:only-of-type {\n",
       "        vertical-align: middle;\n",
       "    }\n",
       "\n",
       "    .dataframe tbody tr th {\n",
       "        vertical-align: top;\n",
       "    }\n",
       "\n",
       "    .dataframe thead th {\n",
       "        text-align: right;\n",
       "    }\n",
       "</style>\n",
       "<table border=\"1\" class=\"dataframe\">\n",
       "  <thead>\n",
       "    <tr style=\"text-align: right;\">\n",
       "      <th></th>\n",
       "      <th>cb_customer_id</th>\n",
       "      <th>amount_after_discount</th>\n",
       "      <th>cb_branch_id</th>\n",
       "      <th>amount_before_discount</th>\n",
       "      <th>amount_discount</th>\n",
       "      <th>unique_customer_id</th>\n",
       "    </tr>\n",
       "  </thead>\n",
       "  <tbody>\n",
       "    <tr>\n",
       "      <th>count</th>\n",
       "      <td>1.532130e+05</td>\n",
       "      <td>153213.000000</td>\n",
       "      <td>153213.000000</td>\n",
       "      <td>153213.000000</td>\n",
       "      <td>153213.000000</td>\n",
       "      <td>1.532130e+05</td>\n",
       "    </tr>\n",
       "    <tr>\n",
       "      <th>mean</th>\n",
       "      <td>9.219141e+18</td>\n",
       "      <td>-0.000059</td>\n",
       "      <td>59.743305</td>\n",
       "      <td>-0.000146</td>\n",
       "      <td>-0.000191</td>\n",
       "      <td>9.223710e+18</td>\n",
       "    </tr>\n",
       "    <tr>\n",
       "      <th>std</th>\n",
       "      <td>5.319024e+18</td>\n",
       "      <td>0.998698</td>\n",
       "      <td>30.441829</td>\n",
       "      <td>0.998532</td>\n",
       "      <td>0.998594</td>\n",
       "      <td>5.336933e+18</td>\n",
       "    </tr>\n",
       "    <tr>\n",
       "      <th>min</th>\n",
       "      <td>1.430848e+13</td>\n",
       "      <td>-10.317209</td>\n",
       "      <td>0.000000</td>\n",
       "      <td>-9.137788</td>\n",
       "      <td>-9.115476</td>\n",
       "      <td>2.885123e+14</td>\n",
       "    </tr>\n",
       "    <tr>\n",
       "      <th>25%</th>\n",
       "      <td>4.617722e+18</td>\n",
       "      <td>-0.344771</td>\n",
       "      <td>32.000000</td>\n",
       "      <td>-0.425285</td>\n",
       "      <td>-0.488551</td>\n",
       "      <td>4.580966e+18</td>\n",
       "    </tr>\n",
       "    <tr>\n",
       "      <th>50%</th>\n",
       "      <td>9.219466e+18</td>\n",
       "      <td>-0.132967</td>\n",
       "      <td>68.000000</td>\n",
       "      <td>-0.169028</td>\n",
       "      <td>-0.205634</td>\n",
       "      <td>9.233832e+18</td>\n",
       "    </tr>\n",
       "    <tr>\n",
       "      <th>75%</th>\n",
       "      <td>1.381950e+19</td>\n",
       "      <td>0.190905</td>\n",
       "      <td>90.000000</td>\n",
       "      <td>0.229723</td>\n",
       "      <td>0.267022</td>\n",
       "      <td>1.383845e+19</td>\n",
       "    </tr>\n",
       "    <tr>\n",
       "      <th>max</th>\n",
       "      <td>1.844656e+19</td>\n",
       "      <td>13.939131</td>\n",
       "      <td>93.000000</td>\n",
       "      <td>15.661321</td>\n",
       "      <td>16.521000</td>\n",
       "      <td>1.844670e+19</td>\n",
       "    </tr>\n",
       "  </tbody>\n",
       "</table>\n",
       "</div>"
      ],
      "text/plain": [
       "       cb_customer_id  amount_after_discount   cb_branch_id  \\\n",
       "count    1.532130e+05          153213.000000  153213.000000   \n",
       "mean     9.219141e+18              -0.000059      59.743305   \n",
       "std      5.319024e+18               0.998698      30.441829   \n",
       "min      1.430848e+13             -10.317209       0.000000   \n",
       "25%      4.617722e+18              -0.344771      32.000000   \n",
       "50%      9.219466e+18              -0.132967      68.000000   \n",
       "75%      1.381950e+19               0.190905      90.000000   \n",
       "max      1.844656e+19              13.939131      93.000000   \n",
       "\n",
       "       amount_before_discount  amount_discount  unique_customer_id  \n",
       "count           153213.000000    153213.000000        1.532130e+05  \n",
       "mean                -0.000146        -0.000191        9.223710e+18  \n",
       "std                  0.998532         0.998594        5.336933e+18  \n",
       "min                 -9.137788        -9.115476        2.885123e+14  \n",
       "25%                 -0.425285        -0.488551        4.580966e+18  \n",
       "50%                 -0.169028        -0.205634        9.233832e+18  \n",
       "75%                  0.229723         0.267022        1.383845e+19  \n",
       "max                 15.661321        16.521000        1.844670e+19  "
      ]
     },
     "execution_count": 10,
     "metadata": {},
     "output_type": "execute_result"
    }
   ],
   "source": [
    "print(\"#### Tanımlayıcı İstatistikler ###\")\n",
    "df_copy.describe()"
   ]
  },
  {
   "cell_type": "code",
   "execution_count": 11,
   "id": "d6f3ac1d-e18b-4429-9835-af4e4b7c4a9b",
   "metadata": {},
   "outputs": [
    {
     "name": "stdout",
     "output_type": "stream",
     "text": [
      "#### Veri Türleri ###\n",
      "<class 'pandas.core.frame.DataFrame'>\n",
      "Int64Index: 153213 entries, 0 to 153531\n",
      "Data columns (total 9 columns):\n",
      " #   Column                  Non-Null Count   Dtype  \n",
      "---  ------                  --------------   -----  \n",
      " 0   cb_customer_id          153213 non-null  uint64 \n",
      " 1   transaction_date        153213 non-null  object \n",
      " 2   amount_after_discount   153213 non-null  float64\n",
      " 3   cb_branch_id            153213 non-null  int64  \n",
      " 4   amount_before_discount  153213 non-null  float64\n",
      " 5   amount_discount         153213 non-null  float64\n",
      " 6   unique_customer_id      153213 non-null  uint64 \n",
      " 7   gender                  4748 non-null    object \n",
      " 8   date_of_birth           3296 non-null    object \n",
      "dtypes: float64(3), int64(1), object(3), uint64(2)\n",
      "memory usage: 11.7+ MB\n",
      "None\n"
     ]
    }
   ],
   "source": [
    "print(\"#### Veri Türleri ###\")\n",
    "print(df_copy .info())  "
   ]
  },
  {
   "cell_type": "code",
   "execution_count": 12,
   "id": "4546e8b8-8523-48ad-8250-61b15394cb70",
   "metadata": {},
   "outputs": [
    {
     "name": "stdout",
     "output_type": "stream",
     "text": [
      "#### NULL değerler  ###\n",
      "cb_customer_id                 0\n",
      "transaction_date               0\n",
      "amount_after_discount          0\n",
      "cb_branch_id                   0\n",
      "amount_before_discount         0\n",
      "amount_discount                0\n",
      "unique_customer_id             0\n",
      "gender                    148465\n",
      "date_of_birth             149917\n",
      "dtype: int64\n"
     ]
    }
   ],
   "source": [
    "print(\"#### NULL değerler  ###\")\n",
    "print(df_copy.isnull().sum())  "
   ]
  },
  {
   "cell_type": "code",
   "execution_count": 13,
   "id": "822a8c2e-dfa2-4074-915c-85d429bd6251",
   "metadata": {},
   "outputs": [
    {
     "data": {
      "text/plain": [
       "<seaborn.axisgrid.PairGrid at 0x1eda118cb20>"
      ]
     },
     "execution_count": 13,
     "metadata": {},
     "output_type": "execute_result"
    },
    {
     "data": {
      "image/png": "[encoded data removed]",
      "text/plain": [
       "<Figure size 648x648 with 12 Axes>"
      ]
     },
     "metadata": {
      "needs_background": "light"
     },
     "output_type": "display_data"
    }
   ],
   "source": [
    "pp = sns.pairplot(df_copy[['amount_after_discount','amount_before_discount', 'amount_discount']], palette = 'deep', \n",
    "                  size=3, diag_kind = 'kde', diag_kws=dict(shade=True), plot_kws=dict(s=20) )\n",
    "pp.set(xticklabels=[])"
   ]
  },
  {
   "cell_type": "markdown",
   "id": "b1b37848-1fcf-4cae-91dc-09bedf11b41e",
   "metadata": {},
   "source": [
    "- The transaction_date and date_of_birth columns were assigned as datetime.\n",
    "- It was found that 149,917 rows in the date_of_birth column are null.\n",
    "- It was found that 148,465 rows in the gender column are null.\n",
    "- The date_of_birth and gender columns were removed."
   ]
  },
  {
   "cell_type": "code",
   "execution_count": 14,
   "id": "d66c388a-118f-47d5-addc-c4fa42b92eef",
   "metadata": {},
   "outputs": [
    {
     "data": {
      "text/plain": [
       "<AxesSubplot:>"
      ]
     },
     "execution_count": 14,
     "metadata": {},
     "output_type": "execute_result"
    },
    {
     "data": {
      "image/png": "[encoded data removed]",
      "text/plain": [
       "<Figure size 1584x720 with 1 Axes>"
      ]
     },
     "metadata": {
      "needs_background": "light"
     },
     "output_type": "display_data"
    }
   ],
   "source": [
    "\n",
    "plt.figure(figsize=(22, 10))\n",
    "sns.heatmap(df_copy.isnull(), yticklabels=False, cbar=False, cmap='viridis') "
   ]
  },
  {
   "cell_type": "code",
   "execution_count": 15,
   "id": "adbe5a2f-612d-4bd4-b365-3b455a0a749a",
   "metadata": {},
   "outputs": [],
   "source": [
    "# Data tipini tarih olarak düzeltim\n",
    "df_copy['transaction_date'] = pd.to_datetime(df_copy['transaction_date'])\n",
    "df_copy[\"date_of_birth\"]= pd.to_datetime(df_copy[\"date_of_birth\"])"
   ]
  },
  {
   "cell_type": "code",
   "execution_count": 16,
   "id": "2c390c2c-b555-4fe0-a817-263c2bb54ccd",
   "metadata": {
    "scrolled": true
   },
   "outputs": [
    {
     "data": {
      "image/png": "[encoded data removed]",
      "text/plain": [
       "<Figure size 288x432 with 1 Axes>"
      ]
     },
     "metadata": {
      "needs_background": "light"
     },
     "output_type": "display_data"
    }
   ],
   "source": [
    "df['birtd_date_status'] = df['date_of_birth'].isnull().map({True: 'Null', False: 'Not Null'})\n",
    "#date_of_birth'deki null olan ve olamyan değerleri görselleştirdim.\n",
    "plt.figure(figsize=(4,6))\n",
    "sns.countplot(x='birtd_date_status', data=df, palette={'Null': 'orange', 'Not Null': 'green'})\n",
    "plt.xlabel(\"Durum\")\n",
    "plt.ylabel(\"Sayı\")\n",
    "plt.title(\" Null ve Non-Null Değerlerin Sayısı\")\n",
    "plt.show()"
   ]
  },
  {
   "cell_type": "code",
   "execution_count": 17,
   "id": "845632d9-4f75-48a3-a333-770f4ed47147",
   "metadata": {},
   "outputs": [],
   "source": [
    "df_copy.drop(columns=['date_of_birth',\"gender\"], inplace=True)\n"
   ]
  },
  {
   "cell_type": "markdown",
   "id": "bb01290b-b532-4a04-ae9b-d260b6107b9a",
   "metadata": {},
   "source": [
    "# Feature Engineering"
   ]
  },
  {
   "cell_type": "markdown",
   "id": "a88745da-a9b7-4221-8459-2d86ad71cafd",
   "metadata": {},
   "source": [
    "- I computed the distinct number of branches visited per customer and assigned it to the branch_count column.\n",
    "- I calculated the total discount per customer and assigned it to the discount_sum column.\n",
    "- I determined the Monetary_beforeDis variable by summing the pre-discount expenditures per customer.\n",
    "- I built an RFM framework to calculate the Recency, Frequency, and Monetary values.\n",
    "- Then, based on the Recency and Frequency scores, I assigned an RF score to each customer.\n",
    "- Finally, I categorized these scores into groups such as Churn, at_risk, and loyal_customers."
   ]
  },
  {
   "cell_type": "code",
   "execution_count": 18,
   "id": "00716439-a7b4-4296-b0ec-8f165d01f15e",
   "metadata": {},
   "outputs": [],
   "source": [
    "# uğradıkları şube sayısının eklenmesi:\n",
    "df_copy['branch_count'] = df_copy.groupby('unique_customer_id')['cb_branch_id'].transform('nunique')\n",
    "# indirimlerin toplanması\n",
    "df_copy['discount_sum'] = df_copy.groupby('unique_customer_id')['amount_discount'].transform('sum')\n",
    "# indirim öncesi harcamalarının toplanması\n",
    "df_copy['Monetary_beforeDis'] = df_copy.groupby('unique_customer_id')['amount_before_discount'].transform('sum')"
   ]
  },
  {
   "cell_type": "markdown",
   "id": "00045e93-a180-41f0-8c7c-cc8444024f03",
   "metadata": {},
   "source": [
    "## RFM \n"
   ]
  },
  {
   "cell_type": "markdown",
   "id": "9f040115-9f5a-4907-bb5c-037f880f6c08",
   "metadata": {},
   "source": [
    "- According to the generated RF segment, for the Churn segment:\n",
    "   - The average Recency value is 130 days.\n",
    "   - The average Frequency value is 1.08.\n",
    "   - The average Monetary value is 0.10.\n"
   ]
  },
  {
   "cell_type": "code",
   "execution_count": 19,
   "id": "519e38ac-cfd7-4545-bd4b-d61293e84531",
   "metadata": {},
   "outputs": [
    {
     "data": {
      "text/html": [
       "<div>\n",
       "<style scoped>\n",
       "    .dataframe tbody tr th:only-of-type {\n",
       "        vertical-align: middle;\n",
       "    }\n",
       "\n",
       "    .dataframe tbody tr th {\n",
       "        vertical-align: top;\n",
       "    }\n",
       "\n",
       "    .dataframe thead th {\n",
       "        text-align: right;\n",
       "    }\n",
       "</style>\n",
       "<table border=\"1\" class=\"dataframe\">\n",
       "  <thead>\n",
       "    <tr style=\"text-align: right;\">\n",
       "      <th></th>\n",
       "      <th>Recency</th>\n",
       "      <th>Frequency</th>\n",
       "      <th>Monetary</th>\n",
       "      <th>R_Score</th>\n",
       "      <th>F_Score</th>\n",
       "      <th>M_Score</th>\n",
       "      <th>RF_Score</th>\n",
       "      <th>RF_segment</th>\n",
       "    </tr>\n",
       "    <tr>\n",
       "      <th>unique_customer_id</th>\n",
       "      <th></th>\n",
       "      <th></th>\n",
       "      <th></th>\n",
       "      <th></th>\n",
       "      <th></th>\n",
       "      <th></th>\n",
       "      <th></th>\n",
       "      <th></th>\n",
       "    </tr>\n",
       "  </thead>\n",
       "  <tbody>\n",
       "    <tr>\n",
       "      <th>288512277526182</th>\n",
       "      <td>91</td>\n",
       "      <td>3</td>\n",
       "      <td>0.631865</td>\n",
       "      <td>4</td>\n",
       "      <td>3</td>\n",
       "      <td>5</td>\n",
       "      <td>43</td>\n",
       "      <td>potential_loyalists</td>\n",
       "    </tr>\n",
       "    <tr>\n",
       "      <th>442982885829789</th>\n",
       "      <td>80</td>\n",
       "      <td>1</td>\n",
       "      <td>-0.380075</td>\n",
       "      <td>4</td>\n",
       "      <td>1</td>\n",
       "      <td>2</td>\n",
       "      <td>41</td>\n",
       "      <td>promising</td>\n",
       "    </tr>\n",
       "    <tr>\n",
       "      <th>494952537561067</th>\n",
       "      <td>74</td>\n",
       "      <td>2</td>\n",
       "      <td>-1.219022</td>\n",
       "      <td>4</td>\n",
       "      <td>2</td>\n",
       "      <td>1</td>\n",
       "      <td>42</td>\n",
       "      <td>potential_loyalists</td>\n",
       "    </tr>\n",
       "    <tr>\n",
       "      <th>619564307179957</th>\n",
       "      <td>32</td>\n",
       "      <td>1</td>\n",
       "      <td>0.277410</td>\n",
       "      <td>5</td>\n",
       "      <td>1</td>\n",
       "      <td>4</td>\n",
       "      <td>51</td>\n",
       "      <td>new_customers</td>\n",
       "    </tr>\n",
       "    <tr>\n",
       "      <th>644980618238310</th>\n",
       "      <td>107</td>\n",
       "      <td>1</td>\n",
       "      <td>2.564931</td>\n",
       "      <td>3</td>\n",
       "      <td>1</td>\n",
       "      <td>5</td>\n",
       "      <td>31</td>\n",
       "      <td>about_to_sleep</td>\n",
       "    </tr>\n",
       "  </tbody>\n",
       "</table>\n",
       "</div>"
      ],
      "text/plain": [
       "                    Recency  Frequency  Monetary R_Score F_Score M_Score  \\\n",
       "unique_customer_id                                                         \n",
       "288512277526182          91          3  0.631865       4       3       5   \n",
       "442982885829789          80          1 -0.380075       4       1       2   \n",
       "494952537561067          74          2 -1.219022       4       2       1   \n",
       "619564307179957          32          1  0.277410       5       1       4   \n",
       "644980618238310         107          1  2.564931       3       1       5   \n",
       "\n",
       "                   RF_Score           RF_segment  \n",
       "unique_customer_id                                \n",
       "288512277526182          43  potential_loyalists  \n",
       "442982885829789          41            promising  \n",
       "494952537561067          42  potential_loyalists  \n",
       "619564307179957          51        new_customers  \n",
       "644980618238310          31       about_to_sleep  "
      ]
     },
     "execution_count": 19,
     "metadata": {},
     "output_type": "execute_result"
    }
   ],
   "source": [
    "# Datasetindeki maksimum tarihi almak için yaptım.\n",
    "max_date = df_copy['transaction_date'].max() \n",
    "\n",
    "# Recency icin;\n",
    "rfm_data = df_copy.groupby('unique_customer_id').agg({\n",
    "    'transaction_date': lambda x: x.max(), \n",
    "})\n",
    "\n",
    "rfm_data['Recency'] = (max_date - rfm_data['transaction_date']).dt.days\n",
    "rfm_data.drop(columns='transaction_date', inplace=True)\n",
    "\n",
    "# Frequency icin:\n",
    "freq_data = df_copy.groupby('unique_customer_id').agg({\n",
    "    'transaction_date': 'count'\n",
    "}).rename(columns={'transaction_date': 'Frequency'})\n",
    "\n",
    "# Monetary icin:\n",
    "mon_data = df_copy.groupby('unique_customer_id').agg({\n",
    "    'amount_after_discount': 'sum'\n",
    "}).rename(columns={'amount_after_discount': 'Monetary'})\n",
    "\n",
    "# Joinleme\n",
    "rfm = rfm_data.join(freq_data).join(mon_data)\n",
    "\n",
    "##### Skorları Atamak İcin;\n",
    "## Recency Skoru icin;\n",
    "rfm['R_Score'] = pd.qcut(rfm['Recency'], 5, labels=[5,4,3,2,1])\n",
    "## Frequency Skoru İcin;\n",
    "bins = [0, 1, 2, 3, 5, np.inf]\n",
    "labels = [1, 2, 3, 4, 5]\n",
    "rfm['F_Score'] = pd.cut(rfm['Frequency'], bins=bins, labels=labels)\n",
    "## Monetary Skoru İcin;\n",
    "rfm['M_Score'] = pd.qcut(rfm['Monetary'], 5, labels=[1,2,3,4,5])\n",
    "\n",
    "## Skorların birlestirilmesi\n",
    "rfm['RF_Score'] = rfm['R_Score'].astype(str) + \\\n",
    "                   rfm['F_Score'].astype(str) \n",
    "\n",
    "## Skorlara uydun segmentleri atamak icin;\n",
    "seg_map = {\n",
    "    r'[1-2][1-2]': 'Churn',\n",
    "    r'[1-2][3-4]': 'at_Risk',\n",
    "    r'[1-2]5': 'cant_loose',\n",
    "    r'3[1-2]': 'about_to_sleep',\n",
    "    r'33': 'need_attention',\n",
    "    r'[3-4][4-5]': 'loyal_customers',\n",
    "    r'41': 'promising',\n",
    "    r'51': 'new_customers',\n",
    "    r'[4-5][2-3]': 'potential_loyalists',\n",
    "    r'5[4-5]': 'champions'\n",
    "}\n",
    "\n",
    "rfm['RF_segment'] = rfm['RF_Score'].replace(seg_map, regex=True)\n",
    "\n",
    "rfm.head()"
   ]
  },
  {
   "cell_type": "code",
   "execution_count": 20,
   "id": "9a4d9d9a-12a5-4db3-ac46-88cc43bcc551",
   "metadata": {
    "scrolled": true
   },
   "outputs": [
    {
     "data": {
      "text/html": [
       "<div>\n",
       "<style scoped>\n",
       "    .dataframe tbody tr th:only-of-type {\n",
       "        vertical-align: middle;\n",
       "    }\n",
       "\n",
       "    .dataframe tbody tr th {\n",
       "        vertical-align: top;\n",
       "    }\n",
       "\n",
       "    .dataframe thead tr th {\n",
       "        text-align: left;\n",
       "    }\n",
       "\n",
       "    .dataframe thead tr:last-of-type th {\n",
       "        text-align: right;\n",
       "    }\n",
       "</style>\n",
       "<table border=\"1\" class=\"dataframe\">\n",
       "  <thead>\n",
       "    <tr>\n",
       "      <th></th>\n",
       "      <th>Recency</th>\n",
       "      <th>Frequency</th>\n",
       "      <th colspan=\"2\" halign=\"left\">Monetary</th>\n",
       "    </tr>\n",
       "    <tr>\n",
       "      <th></th>\n",
       "      <th>mean</th>\n",
       "      <th>mean</th>\n",
       "      <th>mean</th>\n",
       "      <th>count</th>\n",
       "    </tr>\n",
       "    <tr>\n",
       "      <th>RF_segment</th>\n",
       "      <th></th>\n",
       "      <th></th>\n",
       "      <th></th>\n",
       "      <th></th>\n",
       "    </tr>\n",
       "  </thead>\n",
       "  <tbody>\n",
       "    <tr>\n",
       "      <th>Churn</th>\n",
       "      <td>130.626196</td>\n",
       "      <td>1.083863</td>\n",
       "      <td>0.109947</td>\n",
       "      <td>51000</td>\n",
       "    </tr>\n",
       "    <tr>\n",
       "      <th>about_to_sleep</th>\n",
       "      <td>101.602714</td>\n",
       "      <td>1.107197</td>\n",
       "      <td>0.092080</td>\n",
       "      <td>25206</td>\n",
       "    </tr>\n",
       "    <tr>\n",
       "      <th>at_Risk</th>\n",
       "      <td>128.235919</td>\n",
       "      <td>3.196599</td>\n",
       "      <td>-0.777250</td>\n",
       "      <td>941</td>\n",
       "    </tr>\n",
       "    <tr>\n",
       "      <th>cant_loose</th>\n",
       "      <td>123.500000</td>\n",
       "      <td>7.909091</td>\n",
       "      <td>-2.770088</td>\n",
       "      <td>22</td>\n",
       "    </tr>\n",
       "    <tr>\n",
       "      <th>champions</th>\n",
       "      <td>22.198718</td>\n",
       "      <td>6.858974</td>\n",
       "      <td>-1.345816</td>\n",
       "      <td>156</td>\n",
       "    </tr>\n",
       "    <tr>\n",
       "      <th>loyal_customers</th>\n",
       "      <td>91.668192</td>\n",
       "      <td>4.693364</td>\n",
       "      <td>-0.928401</td>\n",
       "      <td>437</td>\n",
       "    </tr>\n",
       "    <tr>\n",
       "      <th>need_attention</th>\n",
       "      <td>101.637255</td>\n",
       "      <td>3.000000</td>\n",
       "      <td>-0.482807</td>\n",
       "      <td>612</td>\n",
       "    </tr>\n",
       "    <tr>\n",
       "      <th>new_customers</th>\n",
       "      <td>30.789552</td>\n",
       "      <td>1.000000</td>\n",
       "      <td>-0.159222</td>\n",
       "      <td>24063</td>\n",
       "    </tr>\n",
       "    <tr>\n",
       "      <th>potential_loyalists</th>\n",
       "      <td>58.997075</td>\n",
       "      <td>2.168183</td>\n",
       "      <td>-0.480716</td>\n",
       "      <td>6154</td>\n",
       "    </tr>\n",
       "    <tr>\n",
       "      <th>promising</th>\n",
       "      <td>84.035208</td>\n",
       "      <td>1.000000</td>\n",
       "      <td>0.022703</td>\n",
       "      <td>24483</td>\n",
       "    </tr>\n",
       "  </tbody>\n",
       "</table>\n",
       "</div>"
      ],
      "text/plain": [
       "                        Recency Frequency  Monetary       \n",
       "                           mean      mean      mean  count\n",
       "RF_segment                                                \n",
       "Churn                130.626196  1.083863  0.109947  51000\n",
       "about_to_sleep       101.602714  1.107197  0.092080  25206\n",
       "at_Risk              128.235919  3.196599 -0.777250    941\n",
       "cant_loose           123.500000  7.909091 -2.770088     22\n",
       "champions             22.198718  6.858974 -1.345816    156\n",
       "loyal_customers       91.668192  4.693364 -0.928401    437\n",
       "need_attention       101.637255  3.000000 -0.482807    612\n",
       "new_customers         30.789552  1.000000 -0.159222  24063\n",
       "potential_loyalists   58.997075  2.168183 -0.480716   6154\n",
       "promising             84.035208  1.000000  0.022703  24483"
      ]
     },
     "execution_count": 20,
     "metadata": {},
     "output_type": "execute_result"
    }
   ],
   "source": [
    "## Segmentlere göre sayı ve ortalamalara bakmak icin;\n",
    "rfm.groupby(\"RF_segment\").agg({\"Recency\": \"mean\",\n",
    "                            \"Frequency\": \"mean\",\n",
    "                            \"Monetary\": [\"mean\",\"count\"]})"
   ]
  },
  {
   "cell_type": "code",
   "execution_count": 21,
   "id": "8241a9a0-3995-424e-b152-5e2e5afaba1c",
   "metadata": {},
   "outputs": [],
   "source": [
    "# rfm ve df_copy birleştirmek icin;\n",
    "data = pd.merge(df_copy, rfm, on='unique_customer_id', how='left')\n"
   ]
  },
  {
   "cell_type": "code",
   "execution_count": 22,
   "id": "9b303b3c-dc3a-4fa4-8cdc-7f90114122f8",
   "metadata": {},
   "outputs": [],
   "source": [
    "# Modellerde denemek icin ürettigim diger degiskenler\n",
    "data['avg_amount_spent'] = data['Monetary'] / data['Frequency']\n",
    "data['avg_discount'] = data['discount_sum'] / data['Frequency']\n",
    "data[\"discount_rate\"] = data['discount_sum'] / data['Monetary_beforeDis']\n",
    "data[\"discount_per_branch\"]  =  data['discount_sum']/  data['branch_count']\n",
    "data[\"Monetary_branch\"]  =  data['discount_sum']/  data['branch_count']\n",
    "data['branch_discount_interaction'] = data['branch_count'] * data['discount_rate']\n",
    "data['spend_ratio'] = data['Monetary'] / data['Monetary_beforeDis']\n",
    "data['discount_impact'] = 1 - data['spend_ratio']"
   ]
  },
  {
   "cell_type": "markdown",
   "id": "7af39968-35f7-4611-9dc6-48ff5060b0c4",
   "metadata": {},
   "source": [
    "# Distribution of data - Correlation Analysis"
   ]
  },
  {
   "cell_type": "markdown",
   "id": "98f46272-6854-44fb-ab21-9c0292be5326",
   "metadata": {},
   "source": [
    "- A Kolmogorov-Smirnov normality test was performed to check whether the data follows a normal distribution.\n",
    "- It was observed that the columns do not follow a normal distribution.\n",
    "- Since the data is not normally distributed, a Spearman correlation test was conducted.\n",
    "- Strong correlations were observed among some of the created variables."
   ]
  },
  {
   "cell_type": "code",
   "execution_count": 23,
   "id": "18535b43-91c6-41d5-b7fd-b123b637f599",
   "metadata": {
    "scrolled": true
   },
   "outputs": [
    {
     "name": "stdout",
     "output_type": "stream",
     "text": [
      "amount_after_discount için Kolmogorov-Smirnov Testi: Test İstatistiği = 0.17792512606255673, p-değeri = 0.0\n",
      "amount_after_discount: Normal dağılıma uygun değil.\n",
      "amount_before_discount için Kolmogorov-Smirnov Testi: Test İstatistiği = 0.1667549947435718, p-değeri = 0.0\n",
      "amount_before_discount: Normal dağılıma uygun değil.\n",
      "amount_discount için Kolmogorov-Smirnov Testi: Test İstatistiği = 0.2124316853493105, p-değeri = 0.0\n",
      "amount_discount: Normal dağılıma uygun değil.\n",
      "discount_sum için Kolmogorov-Smirnov Testi: Test İstatistiği = 0.15569759224294744, p-değeri = 0.0\n",
      "discount_sum: Normal dağılıma uygun değil.\n",
      "Monetary_beforeDis için Kolmogorov-Smirnov Testi: Test İstatistiği = 0.17056352054330737, p-değeri = 0.0\n",
      "Monetary_beforeDis: Normal dağılıma uygun değil.\n",
      "Monetary için Kolmogorov-Smirnov Testi: Test İstatistiği = 0.18535669002132593, p-değeri = 0.0\n",
      "Monetary: Normal dağılıma uygun değil.\n",
      "avg_amount_spent için Kolmogorov-Smirnov Testi: Test İstatistiği = 0.19418353755505413, p-değeri = 0.0\n",
      "avg_amount_spent: Normal dağılıma uygun değil.\n",
      "avg_discount için Kolmogorov-Smirnov Testi: Test İstatistiği = 0.24873408788695384, p-değeri = 0.0\n",
      "avg_discount: Normal dağılıma uygun değil.\n",
      "discount_per_branch için Kolmogorov-Smirnov Testi: Test İstatistiği = 0.15612909473010528, p-değeri = 0.0\n",
      "discount_per_branch: Normal dağılıma uygun değil.\n",
      "discount_rate için Kolmogorov-Smirnov Testi: Test İstatistiği = 0.6084037149402122, p-değeri = 0.0\n",
      "discount_rate: Normal dağılıma uygun değil.\n",
      "Monetary_branch için Kolmogorov-Smirnov Testi: Test İstatistiği = 0.15612909473010528, p-değeri = 0.0\n",
      "Monetary_branch: Normal dağılıma uygun değil.\n",
      "branch_discount_interaction için Kolmogorov-Smirnov Testi: Test İstatistiği = 0.610825180481648, p-değeri = 0.0\n",
      "branch_discount_interaction: Normal dağılıma uygun değil.\n",
      "spend_ratio için Kolmogorov-Smirnov Testi: Test İstatistiği = 0.4302739790802333, p-değeri = 0.0\n",
      "spend_ratio: Normal dağılıma uygun değil.\n",
      "discount_impact için Kolmogorov-Smirnov Testi: Test İstatistiği = 0.19396946332078924, p-değeri = 0.0\n",
      "discount_impact: Normal dağılıma uygun değil.\n"
     ]
    }
   ],
   "source": [
    "colum_in = ['amount_after_discount','amount_before_discount', 'amount_discount','discount_sum',  'Monetary_beforeDis', 'Monetary', 'avg_amount_spent', 'avg_discount',\"discount_per_branch\", \"discount_rate\",\"Monetary_branch\",'branch_discount_interaction','spend_ratio','discount_impact']\n",
    "# Kolmogorov-Smirnov \n",
    "for column in colum_in:\n",
    "    stat, p = kstest(data[column], 'norm')\n",
    "    print(f\"{column} için Kolmogorov-Smirnov Testi: Test İstatistiği = {stat}, p-değeri = {p}\")\n",
    "    if p > 0.05:\n",
    "        print(f\"{column}: Normal dağılıma uygun.\")\n",
    "    else:\n",
    "        print(f\"{column}: Normal dağılıma uygun değil.\")"
   ]
  },
  {
   "cell_type": "markdown",
   "id": "7d4150ec-1b01-443d-9745-fdd1f01e5536",
   "metadata": {},
   "source": [
    "sns.set()\n",
    "sns.pairplot(data[colum_in], size = 2.5)\n",
    "plt.show()"
   ]
  },
  {
   "cell_type": "code",
   "execution_count": 24,
   "id": "3b427c17-f973-4f80-a778-9ad925a107da",
   "metadata": {},
   "outputs": [
    {
     "data": {
      "image/png": "[encoded data removed]",
      "text/plain": [
       "<Figure size 576x432 with 2 Axes>"
      ]
     },
     "metadata": {
      "needs_background": "light"
     },
     "output_type": "display_data"
    }
   ],
   "source": [
    "# Sürekli değişkenlerin seçimi ve korelasyon testi icin;\n",
    "spearman_corr = data[colum_in].corr(method='spearman')\n",
    "plt.figure(figsize=(8, 6))\n",
    "sns.heatmap(spearman_corr, annot=True, cmap='coolwarm', fmt=\".2f\")\n",
    "plt.title(\"Spearman Korelasyon Matrisi\")\n",
    "plt.show()"
   ]
  },
  {
   "cell_type": "markdown",
   "id": "f1a8bda4-7627-434a-8d94-816d9dd5026a",
   "metadata": {},
   "source": [
    "# Churn Model"
   ]
  },
  {
   "cell_type": "markdown",
   "id": "1272c0c0-ec69-4ce0-b55d-df6dd52be2f9",
   "metadata": {},
   "source": [
    "- Since the dataset provided for the churn model does not include any churn label, the churn segment created using the RF score was selected as the target variable.\n",
    "- Subsequently, the usable variables were chosen. (Note: Recency and Frequency will be used only for CLV prediction and will not be included in the churn - model to prevent data leakage.)\n",
    "- The dataset exhibits a slight imbalance.\n",
    "- One of the variables intended for use as an explanatory variable, discount_sum, has been scaled. Since the scaling information is unknown, I focused on tree-based models that are least affected by scaling, are more robust to outliers, and do not suffer from multicollinearity issues.\n",
    "- As success metrics, due to the slight imbalance in the dataset, both F1 macro (which gives more weight to the minority class) and Accuracy were observed.\n",
    "- The best model turned out to be an XGBoost model, achieving 0.71 Accuracy and 0.69 F1 Macro score.\n",
    "- Hyperparameter optimization was attempted, but it did not improve the score.\n",
    "- According to the SAHP analysis, the most important variables influencing the model's predictions are Monetary_beforeDis and discount_impact"
   ]
  },
  {
   "cell_type": "code",
   "execution_count": 25,
   "id": "43eb65c0-8bba-4a31-a2c2-618e89cc5db1",
   "metadata": {},
   "outputs": [],
   "source": [
    "# RF segmentindeki Churn olanlar  hedef değişkene atanmıştır. \n",
    "data['churn_flag'] = np.where(data['RF_segment'] == \"Churn\", 1, 0)\n",
    "\n",
    "# Gereksiz kolonları atmak için.\n",
    "data_new = data[['branch_count','discount_sum',  'Recency','Frequency', ## Recency ve Frequecy CLV predictionda kullanılacaktır.\n",
    "                  \"unique_customer_id\", \"discount_rate\",\"discount_per_branch\",\n",
    "                  'Monetary_beforeDis','Monetary','avg_amount_spent','avg_discount', 'churn_flag',\n",
    "                    \"Monetary_branch\", 'branch_discount_interaction','spend_ratio','discount_impact']]\n",
    "data_new.drop_duplicates(inplace=True)"
   ]
  },
  {
   "cell_type": "code",
   "execution_count": 26,
   "id": "5157d848-6cfd-475b-934f-542df06dc85c",
   "metadata": {},
   "outputs": [
    {
     "data": {
      "image/png": "[encoded data removed]",
      "text/plain": [
       "<Figure size 1296x576 with 2 Axes>"
      ]
     },
     "metadata": {
      "needs_background": "light"
     },
     "output_type": "display_data"
    }
   ],
   "source": [
    "f,ax=plt.subplots(1,2,figsize=(18,8))\n",
    "data_new['churn_flag'].value_counts().plot.pie(explode=[0,0.1],autopct='%1.1f%%',ax=ax[0],shadow=True)\n",
    "ax[0].set_title('Survived')\n",
    "ax[0].set_ylabel('')\n",
    "#sns.countplot('churn_flag',data_new,ax=ax[1])\n",
    "sns.countplot(x='churn_flag', data=data_new, ax=ax[1])\n",
    "ax[1].set_title('Survived')\n",
    "plt.show()"
   ]
  },
  {
   "cell_type": "code",
   "execution_count": 27,
   "id": "06f58b17-3208-4d44-b2eb-163dbc4b2b5f",
   "metadata": {
    "scrolled": true
   },
   "outputs": [
    {
     "data": {
      "text/html": [
       "<div>\n",
       "<style scoped>\n",
       "    .dataframe tbody tr th:only-of-type {\n",
       "        vertical-align: middle;\n",
       "    }\n",
       "\n",
       "    .dataframe tbody tr th {\n",
       "        vertical-align: top;\n",
       "    }\n",
       "\n",
       "    .dataframe thead th {\n",
       "        text-align: right;\n",
       "    }\n",
       "</style>\n",
       "<table border=\"1\" class=\"dataframe\">\n",
       "  <thead>\n",
       "    <tr style=\"text-align: right;\">\n",
       "      <th></th>\n",
       "      <th>branch_count</th>\n",
       "      <th>discount_sum</th>\n",
       "      <th>Recency</th>\n",
       "      <th>Frequency</th>\n",
       "      <th>unique_customer_id</th>\n",
       "      <th>discount_rate</th>\n",
       "      <th>discount_per_branch</th>\n",
       "      <th>Monetary_beforeDis</th>\n",
       "      <th>Monetary</th>\n",
       "      <th>avg_amount_spent</th>\n",
       "      <th>avg_discount</th>\n",
       "      <th>churn_flag</th>\n",
       "      <th>Monetary_branch</th>\n",
       "      <th>branch_discount_interaction</th>\n",
       "      <th>spend_ratio</th>\n",
       "      <th>discount_impact</th>\n",
       "    </tr>\n",
       "  </thead>\n",
       "  <tbody>\n",
       "    <tr>\n",
       "      <th>0</th>\n",
       "      <td>1</td>\n",
       "      <td>-0.886209</td>\n",
       "      <td>45</td>\n",
       "      <td>2</td>\n",
       "      <td>14833856522183602191</td>\n",
       "      <td>1.076519</td>\n",
       "      <td>-0.886209</td>\n",
       "      <td>-0.823217</td>\n",
       "      <td>-0.654238</td>\n",
       "      <td>-0.327119</td>\n",
       "      <td>-0.443104</td>\n",
       "      <td>0</td>\n",
       "      <td>-0.886209</td>\n",
       "      <td>1.076519</td>\n",
       "      <td>0.794733</td>\n",
       "      <td>0.205267</td>\n",
       "    </tr>\n",
       "    <tr>\n",
       "      <th>2</th>\n",
       "      <td>1</td>\n",
       "      <td>-0.281383</td>\n",
       "      <td>88</td>\n",
       "      <td>1</td>\n",
       "      <td>219680563978627406</td>\n",
       "      <td>0.849886</td>\n",
       "      <td>-0.281383</td>\n",
       "      <td>-0.331083</td>\n",
       "      <td>-0.389015</td>\n",
       "      <td>-0.389015</td>\n",
       "      <td>-0.281383</td>\n",
       "      <td>0</td>\n",
       "      <td>-0.281383</td>\n",
       "      <td>0.849886</td>\n",
       "      <td>1.174978</td>\n",
       "      <td>-0.174978</td>\n",
       "    </tr>\n",
       "    <tr>\n",
       "      <th>3</th>\n",
       "      <td>1</td>\n",
       "      <td>-0.488551</td>\n",
       "      <td>93</td>\n",
       "      <td>1</td>\n",
       "      <td>13102778631438780637</td>\n",
       "      <td>1.091217</td>\n",
       "      <td>-0.488551</td>\n",
       "      <td>-0.447712</td>\n",
       "      <td>-0.344771</td>\n",
       "      <td>-0.344771</td>\n",
       "      <td>-0.488551</td>\n",
       "      <td>0</td>\n",
       "      <td>-0.488551</td>\n",
       "      <td>1.091217</td>\n",
       "      <td>0.770073</td>\n",
       "      <td>0.229927</td>\n",
       "    </tr>\n",
       "    <tr>\n",
       "      <th>4</th>\n",
       "      <td>1</td>\n",
       "      <td>-4.519687</td>\n",
       "      <td>85</td>\n",
       "      <td>4</td>\n",
       "      <td>13698985552782800647</td>\n",
       "      <td>1.060934</td>\n",
       "      <td>-4.519687</td>\n",
       "      <td>-4.260102</td>\n",
       "      <td>-3.497043</td>\n",
       "      <td>-0.874261</td>\n",
       "      <td>-1.129922</td>\n",
       "      <td>0</td>\n",
       "      <td>-4.519687</td>\n",
       "      <td>1.060934</td>\n",
       "      <td>0.820882</td>\n",
       "      <td>0.179118</td>\n",
       "    </tr>\n",
       "    <tr>\n",
       "      <th>8</th>\n",
       "      <td>1</td>\n",
       "      <td>-0.092018</td>\n",
       "      <td>127</td>\n",
       "      <td>1</td>\n",
       "      <td>8221697626171255583</td>\n",
       "      <td>0.741746</td>\n",
       "      <td>-0.092018</td>\n",
       "      <td>-0.124056</td>\n",
       "      <td>-0.168271</td>\n",
       "      <td>-0.168271</td>\n",
       "      <td>-0.092018</td>\n",
       "      <td>1</td>\n",
       "      <td>-0.092018</td>\n",
       "      <td>0.741746</td>\n",
       "      <td>1.356414</td>\n",
       "      <td>-0.356414</td>\n",
       "    </tr>\n",
       "  </tbody>\n",
       "</table>\n",
       "</div>"
      ],
      "text/plain": [
       "   branch_count  discount_sum  Recency  Frequency    unique_customer_id  \\\n",
       "0             1     -0.886209       45          2  14833856522183602191   \n",
       "2             1     -0.281383       88          1    219680563978627406   \n",
       "3             1     -0.488551       93          1  13102778631438780637   \n",
       "4             1     -4.519687       85          4  13698985552782800647   \n",
       "8             1     -0.092018      127          1   8221697626171255583   \n",
       "\n",
       "   discount_rate  discount_per_branch  Monetary_beforeDis  Monetary  \\\n",
       "0       1.076519            -0.886209           -0.823217 -0.654238   \n",
       "2       0.849886            -0.281383           -0.331083 -0.389015   \n",
       "3       1.091217            -0.488551           -0.447712 -0.344771   \n",
       "4       1.060934            -4.519687           -4.260102 -3.497043   \n",
       "8       0.741746            -0.092018           -0.124056 -0.168271   \n",
       "\n",
       "   avg_amount_spent  avg_discount  churn_flag  Monetary_branch  \\\n",
       "0         -0.327119     -0.443104           0        -0.886209   \n",
       "2         -0.389015     -0.281383           0        -0.281383   \n",
       "3         -0.344771     -0.488551           0        -0.488551   \n",
       "4         -0.874261     -1.129922           0        -4.519687   \n",
       "8         -0.168271     -0.092018           1        -0.092018   \n",
       "\n",
       "   branch_discount_interaction  spend_ratio  discount_impact  \n",
       "0                     1.076519     0.794733         0.205267  \n",
       "2                     0.849886     1.174978        -0.174978  \n",
       "3                     1.091217     0.770073         0.229927  \n",
       "4                     1.060934     0.820882         0.179118  \n",
       "8                     0.741746     1.356414        -0.356414  "
      ]
     },
     "execution_count": 27,
     "metadata": {},
     "output_type": "execute_result"
    }
   ],
   "source": [
    "data_new.head()"
   ]
  },
  {
   "cell_type": "code",
   "execution_count": 28,
   "id": "28119e43-5e67-4e03-a32a-2c4e76787024",
   "metadata": {},
   "outputs": [],
   "source": [
    "# recency ve frequency data sızıntısı olmaması için çıkarılmıştır.\n",
    "\n",
    "x = data_new[[  'branch_count', 'Monetary_beforeDis', 'avg_discount',   'discount_impact']]\n",
    "\n",
    "y = data_new[['churn_flag']]\n",
    "\n",
    "#x.drop_duplicates(inplace=True)"
   ]
  },
  {
   "cell_type": "markdown",
   "id": "7cfd100c-266b-4b5c-8e01-26a13a2f9ec5",
   "metadata": {
    "tags": []
   },
   "source": [
    "# Test-Train;"
   ]
  },
  {
   "cell_type": "code",
   "execution_count": 29,
   "id": "f8ce45ab-6c91-4616-a2d3-2d92068d0d27",
   "metadata": {},
   "outputs": [
    {
     "name": "stdout",
     "output_type": "stream",
     "text": [
      "Train set sınıf dağılımı:\n",
      " churn_flag\n",
      "0             65659\n",
      "1             40800\n",
      "dtype: int64\n",
      "\n",
      "Test set sınıf dağılımı:\n",
      " churn_flag\n",
      "0             16415\n",
      "1             10200\n",
      "dtype: int64\n"
     ]
    }
   ],
   "source": [
    "from sklearn.model_selection import train_test_split\n",
    "\n",
    "x_train, x_test, y_train, y_test = train_test_split(\n",
    "    x, y, test_size=0.2, random_state=SEED, stratify=y, \n",
    "    shuffle=True\n",
    ")\n",
    "\n",
    "print(\"Train set sınıf dağılımı:\\n\", y_train.value_counts())\n",
    "print(\"\\nTest set sınıf dağılımı:\\n\", y_test.value_counts())\n"
   ]
  },
  {
   "cell_type": "code",
   "execution_count": 30,
   "id": "1a5dc367-dd3e-4149-a48f-bee9a5ab5541",
   "metadata": {},
   "outputs": [],
   "source": [
    "Train_val = pd.concat([x_train,  y_train], axis=1)\n",
    "val =  pd.concat([x_test,  y_test], axis=1)"
   ]
  },
  {
   "cell_type": "code",
   "execution_count": 58,
   "id": "d39a6c2d-46f1-445e-ad27-c00b96b1e91d",
   "metadata": {},
   "outputs": [
    {
     "name": "stdout",
     "output_type": "stream",
     "text": [
      "Test Seti Doğruluk Skoru: 0.7054292692090927\n",
      "\n",
      "Sınıflandırma Raporu:\n",
      "              precision    recall  f1-score   support\n",
      "\n",
      "           0       0.75      0.77      0.76     16415\n",
      "           1       0.62      0.59      0.61     10200\n",
      "\n",
      "    accuracy                           0.71     26615\n",
      "   macro avg       0.69      0.68      0.69     26615\n",
      "weighted avg       0.70      0.71      0.70     26615\n",
      "\n"
     ]
    }
   ],
   "source": [
    "model = XGBClassifier(random_state=42)\n",
    "model.fit(x_train,  y_train)\n",
    "\n",
    "y_pred = model.predict(x_test)\n",
    "\n",
    "accuracy = accuracy_score(y_test, y_pred)\n",
    "print(\"Test Seti Doğruluk Skoru:\", accuracy)\n",
    "print(\"\\nSınıflandırma Raporu:\")\n",
    "print(classification_report(y_test, y_pred))\n"
   ]
  },
  {
   "cell_type": "markdown",
   "id": "c71fa726-2981-4ea1-a1f1-3f5867cc4cf7",
   "metadata": {},
   "source": [
    "# Models"
   ]
  },
  {
   "cell_type": "code",
   "execution_count": 189,
   "id": "adfb9cfc-6aa0-4885-8c2f-4704ee01644a",
   "metadata": {},
   "outputs": [
    {
     "name": "stdout",
     "output_type": "stream",
     "text": [
      "Scaler: Standard Scaler, Model: Random Forest\n",
      "Doğruluk Skoru: 0.7064\n",
      "\n",
      "Sınıflandırma Raporu:\n",
      "              precision    recall  f1-score   support\n",
      "\n",
      "           0       0.75      0.79      0.77     16415\n",
      "           1       0.63      0.57      0.60     10200\n",
      "\n",
      "    accuracy                           0.71     26615\n",
      "   macro avg       0.69      0.68      0.68     26615\n",
      "weighted avg       0.70      0.71      0.70     26615\n",
      "\n",
      "==================================================\n",
      "Scaler: Standard Scaler, Model: Gradient Boosting\n",
      "Doğruluk Skoru: 0.6780\n",
      "\n",
      "Sınıflandırma Raporu:\n",
      "              precision    recall  f1-score   support\n",
      "\n",
      "           0       0.72      0.79      0.75     16415\n",
      "           1       0.59      0.50      0.54     10200\n",
      "\n",
      "    accuracy                           0.68     26615\n",
      "   macro avg       0.66      0.64      0.65     26615\n",
      "weighted avg       0.67      0.68      0.67     26615\n",
      "\n",
      "==================================================\n",
      "Scaler: Standard Scaler, Model: AdaBoost\n",
      "Doğruluk Skoru: 0.6628\n",
      "\n",
      "Sınıflandırma Raporu:\n",
      "              precision    recall  f1-score   support\n",
      "\n",
      "           0       0.69      0.81      0.75     16415\n",
      "           1       0.58      0.42      0.49     10200\n",
      "\n",
      "    accuracy                           0.66     26615\n",
      "   macro avg       0.64      0.62      0.62     26615\n",
      "weighted avg       0.65      0.66      0.65     26615\n",
      "\n",
      "==================================================\n",
      "Scaler: Standard Scaler, Model: Decision Tree\n",
      "Doğruluk Skoru: 0.6969\n",
      "\n",
      "Sınıflandırma Raporu:\n",
      "              precision    recall  f1-score   support\n",
      "\n",
      "           0       0.73      0.80      0.76     16415\n",
      "           1       0.62      0.54      0.58     10200\n",
      "\n",
      "    accuracy                           0.70     26615\n",
      "   macro avg       0.68      0.67      0.67     26615\n",
      "weighted avg       0.69      0.70      0.69     26615\n",
      "\n",
      "==================================================\n",
      "[LightGBM] [Info] Number of positive: 40800, number of negative: 65659\n",
      "[LightGBM] [Info] Auto-choosing row-wise multi-threading, the overhead of testing was 0.000357 seconds.\n",
      "You can set `force_row_wise=true` to remove the overhead.\n",
      "And if memory is not enough, you can set `force_col_wise=true`.\n",
      "[LightGBM] [Info] Total Bins 770\n",
      "[LightGBM] [Info] Number of data points in the train set: 106459, number of used features: 4\n",
      "[LightGBM] [Info] [binary:BoostFromScore]: pavg=0.383246 -> initscore=-0.475793\n",
      "[LightGBM] [Info] Start training from score -0.475793\n",
      "Scaler: Standard Scaler, Model: LGBMClassifier\n",
      "Doğruluk Skoru: 0.6994\n",
      "\n",
      "Sınıflandırma Raporu:\n",
      "              precision    recall  f1-score   support\n",
      "\n",
      "           0       0.75      0.78      0.76     16415\n",
      "           1       0.62      0.57      0.59     10200\n",
      "\n",
      "    accuracy                           0.70     26615\n",
      "   macro avg       0.68      0.68      0.68     26615\n",
      "weighted avg       0.70      0.70      0.70     26615\n",
      "\n",
      "==================================================\n",
      "Scaler: Standard Scaler, Model: XGBClassifier\n",
      "Doğruluk Skoru: 0.7054\n",
      "\n",
      "Sınıflandırma Raporu:\n",
      "              precision    recall  f1-score   support\n",
      "\n",
      "           0       0.75      0.77      0.76     16415\n",
      "           1       0.62      0.59      0.61     10200\n",
      "\n",
      "    accuracy                           0.71     26615\n",
      "   macro avg       0.69      0.68      0.69     26615\n",
      "weighted avg       0.70      0.71      0.70     26615\n",
      "\n",
      "==================================================\n",
      "Scaler: MinMax Scaler, Model: Random Forest\n",
      "Doğruluk Skoru: 0.7073\n",
      "\n",
      "Sınıflandırma Raporu:\n",
      "              precision    recall  f1-score   support\n",
      "\n",
      "           0       0.75      0.79      0.77     16415\n",
      "           1       0.63      0.57      0.60     10200\n",
      "\n",
      "    accuracy                           0.71     26615\n",
      "   macro avg       0.69      0.68      0.68     26615\n",
      "weighted avg       0.70      0.71      0.70     26615\n",
      "\n",
      "==================================================\n",
      "Scaler: MinMax Scaler, Model: Gradient Boosting\n",
      "Doğruluk Skoru: 0.6747\n",
      "\n",
      "Sınıflandırma Raporu:\n",
      "              precision    recall  f1-score   support\n",
      "\n",
      "           0       0.72      0.77      0.74     16415\n",
      "           1       0.58      0.52      0.55     10200\n",
      "\n",
      "    accuracy                           0.67     26615\n",
      "   macro avg       0.65      0.65      0.65     26615\n",
      "weighted avg       0.67      0.67      0.67     26615\n",
      "\n",
      "==================================================\n",
      "Scaler: MinMax Scaler, Model: AdaBoost\n",
      "Doğruluk Skoru: 0.6611\n",
      "\n",
      "Sınıflandırma Raporu:\n",
      "              precision    recall  f1-score   support\n",
      "\n",
      "           0       0.69      0.83      0.75     16415\n",
      "           1       0.59      0.40      0.47     10200\n",
      "\n",
      "    accuracy                           0.66     26615\n",
      "   macro avg       0.64      0.61      0.61     26615\n",
      "weighted avg       0.65      0.66      0.64     26615\n",
      "\n",
      "==================================================\n",
      "Scaler: MinMax Scaler, Model: Decision Tree\n",
      "Doğruluk Skoru: 0.6972\n",
      "\n",
      "Sınıflandırma Raporu:\n",
      "              precision    recall  f1-score   support\n",
      "\n",
      "           0       0.74      0.79      0.76     16415\n",
      "           1       0.62      0.54      0.58     10200\n",
      "\n",
      "    accuracy                           0.70     26615\n",
      "   macro avg       0.68      0.67      0.67     26615\n",
      "weighted avg       0.69      0.70      0.69     26615\n",
      "\n",
      "==================================================\n",
      "[LightGBM] [Info] Number of positive: 40800, number of negative: 65659\n",
      "[LightGBM] [Info] Auto-choosing row-wise multi-threading, the overhead of testing was 0.000512 seconds.\n",
      "You can set `force_row_wise=true` to remove the overhead.\n",
      "And if memory is not enough, you can set `force_col_wise=true`.\n",
      "[LightGBM] [Info] Total Bins 769\n",
      "[LightGBM] [Info] Number of data points in the train set: 106459, number of used features: 4\n",
      "[LightGBM] [Info] [binary:BoostFromScore]: pavg=0.383246 -> initscore=-0.475793\n",
      "[LightGBM] [Info] Start training from score -0.475793\n",
      "Scaler: MinMax Scaler, Model: LGBMClassifier\n",
      "Doğruluk Skoru: 0.6982\n",
      "\n",
      "Sınıflandırma Raporu:\n",
      "              precision    recall  f1-score   support\n",
      "\n",
      "           0       0.74      0.78      0.76     16415\n",
      "           1       0.61      0.57      0.59     10200\n",
      "\n",
      "    accuracy                           0.70     26615\n",
      "   macro avg       0.68      0.67      0.68     26615\n",
      "weighted avg       0.69      0.70      0.70     26615\n",
      "\n",
      "==================================================\n",
      "Scaler: MinMax Scaler, Model: XGBClassifier\n",
      "Doğruluk Skoru: 0.7045\n",
      "\n",
      "Sınıflandırma Raporu:\n",
      "              precision    recall  f1-score   support\n",
      "\n",
      "           0       0.75      0.78      0.76     16415\n",
      "           1       0.62      0.59      0.60     10200\n",
      "\n",
      "    accuracy                           0.70     26615\n",
      "   macro avg       0.69      0.68      0.68     26615\n",
      "weighted avg       0.70      0.70      0.70     26615\n",
      "\n",
      "==================================================\n",
      "Scaler: Robust Scaler, Model: Random Forest\n",
      "Doğruluk Skoru: 0.7056\n",
      "\n",
      "Sınıflandırma Raporu:\n",
      "              precision    recall  f1-score   support\n",
      "\n",
      "           0       0.75      0.79      0.77     16415\n",
      "           1       0.63      0.57      0.60     10200\n",
      "\n",
      "    accuracy                           0.71     26615\n",
      "   macro avg       0.69      0.68      0.68     26615\n",
      "weighted avg       0.70      0.71      0.70     26615\n",
      "\n",
      "==================================================\n",
      "Scaler: Robust Scaler, Model: Gradient Boosting\n",
      "Doğruluk Skoru: 0.6781\n",
      "\n",
      "Sınıflandırma Raporu:\n",
      "              precision    recall  f1-score   support\n",
      "\n",
      "           0       0.72      0.79      0.75     16415\n",
      "           1       0.59      0.50      0.54     10200\n",
      "\n",
      "    accuracy                           0.68     26615\n",
      "   macro avg       0.66      0.64      0.65     26615\n",
      "weighted avg       0.67      0.68      0.67     26615\n",
      "\n",
      "==================================================\n",
      "Scaler: Robust Scaler, Model: AdaBoost\n",
      "Doğruluk Skoru: 0.6628\n",
      "\n",
      "Sınıflandırma Raporu:\n",
      "              precision    recall  f1-score   support\n",
      "\n",
      "           0       0.69      0.81      0.75     16415\n",
      "           1       0.58      0.42      0.49     10200\n",
      "\n",
      "    accuracy                           0.66     26615\n",
      "   macro avg       0.64      0.62      0.62     26615\n",
      "weighted avg       0.65      0.66      0.65     26615\n",
      "\n",
      "==================================================\n",
      "Scaler: Robust Scaler, Model: Decision Tree\n",
      "Doğruluk Skoru: 0.6979\n",
      "\n",
      "Sınıflandırma Raporu:\n",
      "              precision    recall  f1-score   support\n",
      "\n",
      "           0       0.74      0.80      0.77     16415\n",
      "           1       0.62      0.54      0.58     10200\n",
      "\n",
      "    accuracy                           0.70     26615\n",
      "   macro avg       0.68      0.67      0.67     26615\n",
      "weighted avg       0.69      0.70      0.69     26615\n",
      "\n",
      "==================================================\n",
      "[LightGBM] [Info] Number of positive: 40800, number of negative: 65659\n",
      "[LightGBM] [Info] Auto-choosing row-wise multi-threading, the overhead of testing was 0.000387 seconds.\n",
      "You can set `force_row_wise=true` to remove the overhead.\n",
      "And if memory is not enough, you can set `force_col_wise=true`.\n",
      "[LightGBM] [Info] Total Bins 769\n",
      "[LightGBM] [Info] Number of data points in the train set: 106459, number of used features: 4\n",
      "[LightGBM] [Info] [binary:BoostFromScore]: pavg=0.383246 -> initscore=-0.475793\n",
      "[LightGBM] [Info] Start training from score -0.475793\n",
      "Scaler: Robust Scaler, Model: LGBMClassifier\n",
      "Doğruluk Skoru: 0.6986\n",
      "\n",
      "Sınıflandırma Raporu:\n",
      "              precision    recall  f1-score   support\n",
      "\n",
      "           0       0.75      0.77      0.76     16415\n",
      "           1       0.61      0.58      0.60     10200\n",
      "\n",
      "    accuracy                           0.70     26615\n",
      "   macro avg       0.68      0.68      0.68     26615\n",
      "weighted avg       0.70      0.70      0.70     26615\n",
      "\n",
      "==================================================\n",
      "Scaler: Robust Scaler, Model: XGBClassifier\n",
      "Doğruluk Skoru: 0.7016\n",
      "\n",
      "Sınıflandırma Raporu:\n",
      "              precision    recall  f1-score   support\n",
      "\n",
      "           0       0.75      0.77      0.76     16415\n",
      "           1       0.62      0.59      0.60     10200\n",
      "\n",
      "    accuracy                           0.70     26615\n",
      "   macro avg       0.68      0.68      0.68     26615\n",
      "weighted avg       0.70      0.70      0.70     26615\n",
      "\n",
      "==================================================\n",
      "\n",
      "Scaler ve Model Performans Karşılaştırması:\n",
      "Scaler: Standard Scaler, Model: Random Forest, Accuracy: 0.7064\n",
      "Scaler: Standard Scaler, Model: Gradient Boosting, Accuracy: 0.6780\n",
      "Scaler: Standard Scaler, Model: AdaBoost, Accuracy: 0.6628\n",
      "Scaler: Standard Scaler, Model: Decision Tree, Accuracy: 0.6969\n",
      "Scaler: Standard Scaler, Model: LGBMClassifier, Accuracy: 0.6994\n",
      "Scaler: Standard Scaler, Model: XGBClassifier, Accuracy: 0.7054\n",
      "Scaler: MinMax Scaler, Model: Random Forest, Accuracy: 0.7073\n",
      "Scaler: MinMax Scaler, Model: Gradient Boosting, Accuracy: 0.6747\n",
      "Scaler: MinMax Scaler, Model: AdaBoost, Accuracy: 0.6611\n",
      "Scaler: MinMax Scaler, Model: Decision Tree, Accuracy: 0.6972\n",
      "Scaler: MinMax Scaler, Model: LGBMClassifier, Accuracy: 0.6982\n",
      "Scaler: MinMax Scaler, Model: XGBClassifier, Accuracy: 0.7045\n",
      "Scaler: Robust Scaler, Model: Random Forest, Accuracy: 0.7056\n",
      "Scaler: Robust Scaler, Model: Gradient Boosting, Accuracy: 0.6781\n",
      "Scaler: Robust Scaler, Model: AdaBoost, Accuracy: 0.6628\n",
      "Scaler: Robust Scaler, Model: Decision Tree, Accuracy: 0.6979\n",
      "Scaler: Robust Scaler, Model: LGBMClassifier, Accuracy: 0.6986\n",
      "Scaler: Robust Scaler, Model: XGBClassifier, Accuracy: 0.7016\n"
     ]
    }
   ],
   "source": [
    "from sklearn.pipeline import Pipeline\n",
    "from sklearn.preprocessing import StandardScaler, MinMaxScaler, RobustScaler\n",
    "from sklearn.ensemble import AdaBoostClassifier, RandomForestClassifier, GradientBoostingClassifier\n",
    "from sklearn.tree import DecisionTreeClassifier\n",
    "from sklearn.linear_model import LogisticRegression\n",
    "from sklearn.svm import SVC\n",
    "from sklearn.neighbors import KNeighborsClassifier\n",
    "from sklearn.naive_bayes import GaussianNB\n",
    "from sklearn.metrics import accuracy_score, classification_report\n",
    "\n",
    "\n",
    "classifiers = [\n",
    "    ('Random Forest', RandomForestClassifier(random_state=SEED)),\n",
    "    ('Gradient Boosting', GradientBoostingClassifier(random_state=SEED)),\n",
    "    ('AdaBoost', AdaBoostClassifier(random_state=SEED)),\n",
    "    ('Decision Tree', DecisionTreeClassifier(random_state=SEED)),\n",
    "    ('LGBMClassifier', LGBMClassifier(random_state=SEED)),\n",
    "    ('XGBClassifier', XGBClassifier(random_state=SEED))\n",
    "    \n",
    "\n",
    "\n",
    "]\n",
    "\n",
    "scalers = [\n",
    "    ('Standard Scaler', StandardScaler()),\n",
    "    ('MinMax Scaler', MinMaxScaler()),\n",
    "    ('Robust Scaler', RobustScaler())\n",
    "]\n",
    "\n",
    "results = []\n",
    "\n",
    "\n",
    "for scaler_name, scaler in scalers:\n",
    "    for classifier_name, classifier in classifiers:\n",
    "        pipeline = Pipeline([\n",
    "            ('scaler', scaler),  \n",
    "            ('model', classifier)  \n",
    "        ])\n",
    "        \n",
    "        pipeline.fit(x_train,  y_train)    \n",
    "        \n",
    "  \n",
    "        y_pred = pipeline.predict(x_test)\n",
    "        \n",
    "   \n",
    "        accuracy = accuracy_score(y_test, y_pred)\n",
    "        results.append((scaler_name, classifier_name, accuracy))\n",
    "        \n",
    "        print(f\"Scaler: {scaler_name}, Model: {classifier_name}\")\n",
    "        print(f\"Doğruluk Skoru: {accuracy:.4f}\")\n",
    "        print(\"\\nSınıflandırma Raporu:\")\n",
    "        print(classification_report(y_test, y_pred))\n",
    "        print(\"=\"*50)\n",
    "\n",
    "print(\"\\nScaler ve Model Performans Karşılaştırması:\")\n",
    "for scaler_name, classifier_name, accuracy in results:\n",
    "    print(f\"Scaler: {scaler_name}, Model: {classifier_name}, Accuracy: {accuracy:.4f}\")"
   ]
  },
  {
   "cell_type": "markdown",
   "id": "974b875a-6444-4d02-b5c2-685b63332041",
   "metadata": {},
   "source": [
    "# Hyperparameter Optimization\n",
    "## XGBClassifier"
   ]
  },
  {
   "cell_type": "code",
   "execution_count": 190,
   "id": "238084e0-6ead-4ad0-8daa-e4da13d21833",
   "metadata": {},
   "outputs": [
    {
     "name": "stdout",
     "output_type": "stream",
     "text": [
      "Fitting 5 folds for each of 972 candidates, totalling 4860 fits\n",
      "En İyi Hiperparametreler: {'model__colsample_bytree': 1.0, 'model__learning_rate': 0.1, 'model__max_depth': 7, 'model__n_estimators': 200, 'model__num_leaves': 20, 'model__subsample': 0.8}\n",
      "En İyi CV Skoru (F1-macro): 0.6836193383432192\n",
      "Test Seti Doğruluk Skoru: 0.7080969378170204\n",
      "\n",
      "Sınıflandırma Raporu:\n",
      "              precision    recall  f1-score   support\n",
      "\n",
      "           0       0.76      0.78      0.77     16415\n",
      "           1       0.62      0.60      0.61     10200\n",
      "\n",
      "    accuracy                           0.71     26615\n",
      "   macro avg       0.69      0.69      0.69     26615\n",
      "weighted avg       0.71      0.71      0.71     26615\n",
      "\n"
     ]
    }
   ],
   "source": [
    "# Hiperparametre optimizasyonu\n",
    "\n",
    "\n",
    "pipeline = Pipeline([\n",
    "  #  ('scaler', MinMaxScaler()),  \n",
    "    ('model', XGBClassifier(random_state=SEED))\n",
    "])\n",
    "\n",
    "param_grid = {\n",
    "   # 'scaler': [StandardScaler(), MinMaxScaler(), RobustScaler()],\n",
    "    'model__n_estimators': [50, 100, 200],\n",
    "    'model__max_depth': [3, 5, 7, -1],\n",
    "    'model__learning_rate': [0.01, 0.05, 0.1],\n",
    "    'model__num_leaves': [20, 31, 40],\n",
    "    'model__subsample': [0.6, 0.8, 1.0],\n",
    "    'model__colsample_bytree': [0.6, 0.8, 1.0]\n",
    "}\n",
    "\n",
    "grid_search = GridSearchCV(\n",
    "    pipeline,\n",
    "    param_grid=param_grid,\n",
    "    scoring='f1_macro',   # \n",
    "    cv=5,\n",
    "    verbose=1,\n",
    "    n_jobs=-1\n",
    ")\n",
    "\n",
    "grid_search.fit(x_train,  y_train)\n",
    "\n",
    "print(\"En İyi Hiperparametreler:\", grid_search.best_params_)\n",
    "print(\"En İyi CV Skoru (F1-macro):\", grid_search.best_score_)\n",
    "\n",
    "\n",
    "y_pred = grid_search.best_estimator_.predict(x_test)\n",
    "\n",
    "accuracy = accuracy_score(y_test, y_pred)\n",
    "print(\"Test Seti Doğruluk Skoru:\", accuracy)\n",
    "\n",
    "print(\"\\nSınıflandırma Raporu:\")\n",
    "print(classification_report(y_test, y_pred))\n"
   ]
  },
  {
   "cell_type": "markdown",
   "id": "e1e8f1a9-610c-4199-92fb-449f5d3131d5",
   "metadata": {},
   "source": [
    "## Random Forest"
   ]
  },
  {
   "cell_type": "code",
   "execution_count": 71,
   "id": "5dbd9d13-9e30-421f-8837-1ca3d8d9cb31",
   "metadata": {
    "scrolled": true
   },
   "outputs": [
    {
     "name": "stdout",
     "output_type": "stream",
     "text": [
      "Fitting 5 folds for each of 20 candidates, totalling 100 fits\n",
      "En iyi parametreler:  {'max_depth': 15, 'max_features': 'sqrt', 'min_samples_leaf': 2, 'min_samples_split': 10, 'n_estimators': 395}\n",
      "En iyi CV skoru:  0.6922042532042791\n",
      "Test seti skoru:  0.7118917903437911\n"
     ]
    }
   ],
   "source": [
    "from sklearn.model_selection import RandomizedSearchCV\n",
    "from scipy.stats import randint, uniform\n",
    "\n",
    "param_dist = {\n",
    "    'n_estimators': randint(50, 500),\n",
    "    'max_depth': [None, 5, 10, 15],\n",
    "    'min_samples_split': randint(2, 20),\n",
    "    'min_samples_leaf': randint(1, 10),\n",
    "    'max_features': ['sqrt', 'log2']\n",
    "}\n",
    "\n",
    "rf = RandomForestClassifier(random_state=42)\n",
    "\n",
    "\n",
    "random_search = RandomizedSearchCV(\n",
    "    estimator=rf,\n",
    "    param_distributions=param_dist,\n",
    "    n_iter=20,            # Kaç farklı parametre kombinasyonu denenecek\n",
    "    scoring='f1_macro',\n",
    "    cv=5,\n",
    "    random_state=42,\n",
    "    n_jobs=-1,\n",
    "    verbose=2\n",
    ")\n",
    "\n",
    "random_search.fit(x_train, y_train)\n",
    "\n",
    "print(\"En iyi parametreler: \", random_search.best_params_)\n",
    "print(\"En iyi CV skoru: \", random_search.best_score_)\n",
    "\n",
    "best_rf = random_search.best_estimator_\n",
    "test_score = best_rf.score(x_test, y_test)\n",
    "print(\"Test seti skoru: \", test_score)\n"
   ]
  },
  {
   "cell_type": "markdown",
   "id": "4610a528-0113-401f-bf8a-378414c77bf0",
   "metadata": {},
   "source": [
    "## Importance of Variables\n"
   ]
  },
  {
   "cell_type": "code",
   "execution_count": 64,
   "id": "908ce61e-dcc1-40c0-b5e5-f5c79bd0d3fb",
   "metadata": {},
   "outputs": [
    {
     "data": {
      "image/png": "[encoded data removed]",
      "text/plain": [
       "<Figure size 800x310 with 2 Axes>"
      ]
     },
     "metadata": {},
     "output_type": "display_data"
    }
   ],
   "source": [
    "\n",
    "explainer = shap.Explainer(model)\n",
    "shap_values = explainer(x_test)\n",
    "\n",
    "shap.summary_plot(shap_values, x_test)\n"
   ]
  },
  {
   "cell_type": "markdown",
   "id": "bfa6c6d0-faca-4e93-a75e-f590747c4502",
   "metadata": {
    "tags": []
   },
   "source": [
    "# CLV Prediction"
   ]
  },
  {
   "cell_type": "markdown",
   "id": "d7646e37-15ea-4199-a603-b668cb1a15a0",
   "metadata": {},
   "source": [
    "- In the CLV Prediction study, the monetary variable will be predicted using regression analysis.\n",
    "- The monetary variable is defined as the sum of individuals' amount_after_discount values.\n",
    "- No variable derived from the monetary and amount_after_discount variables has been used as an explanatory variable (x).\n",
    "- Due to the possibility that the monetary variable is scaled, the success metric was chosen as the Adjusted R²."
   ]
  },
  {
   "cell_type": "markdown",
   "id": "b57af5fc-912c-4e24-a1de-8473d0301c6a",
   "metadata": {},
   "source": [
    "### Variables\n",
    "- CLV (Target): Defined as the total of customers' past transactions. In other words, each customer's total spending (the sum of amount_after_discount) will be used as the CLV.\n",
    "- Recency: The number of days between the maximum date in the dataset and the customer's last transaction date.\n",
    "- Frequency: The total number of transactions made by the customer.\n",
    "- discount_sum: The total discount amount.\n",
    "- Branch Count (branch_count): The number of different branches from which the customer has made transactions."
   ]
  },
  {
   "cell_type": "code",
   "execution_count": 31,
   "id": "f2afa593-a658-4b29-86e0-f28435057925",
   "metadata": {},
   "outputs": [],
   "source": [
    "CLD = data_new.copy()"
   ]
  },
  {
   "cell_type": "code",
   "execution_count": 32,
   "id": "86e428fd-de16-46cc-a576-b750efcacf8c",
   "metadata": {},
   "outputs": [],
   "source": [
    "CLD[\"CLV\"]  = CLD['Monetary']\n",
    "CLD.drop_duplicates(inplace=True)"
   ]
  },
  {
   "cell_type": "code",
   "execution_count": 33,
   "id": "13a62998-780d-4ed7-88bc-bf7e67ad8979",
   "metadata": {
    "scrolled": true
   },
   "outputs": [],
   "source": [
    "features = [ \"Recency\",'Frequency', 'branch_count','discount_sum'] #,'discount_sum'] #,'discount_per_branch' , 'avg_discount', "
   ]
  },
  {
   "cell_type": "code",
   "execution_count": 34,
   "id": "ca16299f-06d5-4941-b3a9-c1513f42e223",
   "metadata": {},
   "outputs": [
    {
     "data": {
      "image/png": "[encoded data removed]",
      "text/plain": [
       "<Figure size 576x432 with 2 Axes>"
      ]
     },
     "metadata": {
      "needs_background": "light"
     },
     "output_type": "display_data"
    }
   ],
   "source": [
    "spearman_corr = CLD[features].corr(method='spearman')\n",
    "plt.figure(figsize=(8, 6))\n",
    "sns.heatmap(spearman_corr, annot=True, cmap='coolwarm', fmt=\".2f\")\n",
    "plt.title(\"Spearman Korelasyon Matrisi\")\n",
    "plt.show()"
   ]
  },
  {
   "cell_type": "code",
   "execution_count": 35,
   "id": "2aaf3c37-2d3f-4e09-aa2d-4171058c74d6",
   "metadata": {},
   "outputs": [],
   "source": [
    "x = CLD[features]\n",
    "y = CLD[\"CLV\"]"
   ]
  },
  {
   "cell_type": "code",
   "execution_count": 36,
   "id": "9cb53cef-347a-49de-8252-d06aa0bc67f6",
   "metadata": {},
   "outputs": [
    {
     "data": {
      "image/png": "[encoded data removed]",
      "text/plain": [
       "<Figure size 432x288 with 1 Axes>"
      ]
     },
     "metadata": {
      "needs_background": "light"
     },
     "output_type": "display_data"
    }
   ],
   "source": [
    "# data_new.columns\n",
    "plt.hist(y, bins=30, alpha=0.5, label=\"Monetary\")\n",
    "plt.legend()\n",
    "plt.show()"
   ]
  },
  {
   "cell_type": "code",
   "execution_count": 37,
   "id": "d90ec36c-14f1-4fab-ba60-f0d75f1cc48f",
   "metadata": {},
   "outputs": [],
   "source": [
    "# Test-Train ayrımı;\n",
    "x_train, x_test, y_train, y_test = train_test_split(\n",
    "    x, y, test_size=0.2, random_state=SEED ,\n",
    "    shuffle=True\n",
    ")"
   ]
  },
  {
   "cell_type": "code",
   "execution_count": 38,
   "id": "1aaae6fe-e6c6-4f93-9457-3d48549929e0",
   "metadata": {},
   "outputs": [
    {
     "name": "stdout",
     "output_type": "stream",
     "text": [
      "Test RMSE: 0.43112452442447136\n",
      "Test R^2 Score: 0.8201126204711929\n",
      "Test Adjusted R^2 Score: 0.8200855799030563\n"
     ]
    }
   ],
   "source": [
    "\n",
    "rf_reg = RandomForestRegressor(n_estimators=100, random_state=42)\n",
    "rf_reg.fit(x_train, y_train)\n",
    "\n",
    "\n",
    "y_pred = rf_reg.predict(x_test)\n",
    "mse = mean_squared_error(y_test, y_pred)\n",
    "rmse = np.sqrt(mse)\n",
    "r2 = r2_score(y_test, y_pred)\n",
    "\n",
    "\n",
    "# Adjusted R² hesaplanması:\n",
    "n = len(y_test)               # Test setindeki örnek sayısı\n",
    "p = x_test.shape[1]    # Kullanılan özellik sayısı\n",
    "adjusted_r2 = 1 - (1 - r2) * (n - 1) / (n - p - 1)\n",
    "\n",
    "print(\"Test RMSE:\", rmse)\n",
    "print(\"Test R^2 Score:\", r2)\n",
    "print(\"Test Adjusted R^2 Score:\", adjusted_r2)\n"
   ]
  },
  {
   "cell_type": "code",
   "execution_count": 39,
   "id": "65a5ee3e-f2d6-49fd-8e44-f4aa4897959c",
   "metadata": {},
   "outputs": [
    {
     "data": {
      "image/png": "[encoded data removed]",
      "text/plain": [
       "<Figure size 432x288 with 1 Axes>"
      ]
     },
     "metadata": {
      "needs_background": "light"
     },
     "output_type": "display_data"
    }
   ],
   "source": [
    "plt.hist(y_test, bins=30, alpha=0.5, label=\"Gerçek Değerler\")\n",
    "plt.hist(y_pred, bins=30, alpha=0.5, label=\"Tahminler\")\n",
    "plt.legend()\n",
    "plt.show()"
   ]
  },
  {
   "cell_type": "code",
   "execution_count": 40,
   "id": "757360e0-5245-414d-875c-841a8c0d6820",
   "metadata": {},
   "outputs": [
    {
     "name": "stdout",
     "output_type": "stream",
     "text": [
      "[LightGBM] [Info] Auto-choosing col-wise multi-threading, the overhead of testing was 0.003010 seconds.\n",
      "You can set `force_col_wise=true` to remove the overhead.\n",
      "[LightGBM] [Info] Total Bins 422\n",
      "[LightGBM] [Info] Number of data points in the train set: 106459, number of used features: 4\n",
      "[LightGBM] [Info] Start training from score 0.001565\n",
      "Modellerin Performans Sonuçları:\n",
      "Linear Regression: RMSE = 0.5101, R² = 0.7482, Adjusted R² = 0.7481\n",
      "Random Forest: RMSE = 0.4311, R² = 0.8201, Adjusted R² = 0.8201\n",
      "Gradient Boosting: RMSE = 0.4541, R² = 0.8005, Adjusted R² = 0.8004\n",
      "Decision Tree: RMSE = 0.4932, R² = 0.7646, Adjusted R² = 0.7646\n",
      "AdaBoost: RMSE = 0.5922, R² = 0.6606, Adjusted R² = 0.6605\n",
      "LGBMRegressor: RMSE = 0.4500, R² = 0.8040, Adjusted R² = 0.8040\n",
      "XGBRegressor: RMSE = 0.4537, R² = 0.8007, Adjusted R² = 0.8007\n",
      "\n",
      "En iyi model: Random Forest (Adjusted R²: 0.8201)\n"
     ]
    }
   ],
   "source": [
    "\n",
    "models = {\n",
    "    \"Linear Regression\": LinearRegression(),\n",
    "    \"Random Forest\": RandomForestRegressor(n_estimators=100, random_state=42),\n",
    "    \"Gradient Boosting\": GradientBoostingRegressor(random_state=42),\n",
    "    \"Decision Tree\": DecisionTreeRegressor(random_state=42),\n",
    "    \"AdaBoost\": AdaBoostRegressor(random_state=42),\n",
    "    \"LGBMRegressor\": LGBMRegressor( random_state=42),\n",
    "    \"XGBRegressor\": XGBRegressor()\n",
    "}\n",
    "\n",
    "results = [] \n",
    "\n",
    "for name, model in models.items():\n",
    "\n",
    "    model.fit(x_train, y_train)\n",
    "    \n",
    "\n",
    "    y_pred = model.predict(x_test)\n",
    "    \n",
    "    mse = mean_squared_error(y_test, y_pred)\n",
    "    rmse = np.sqrt(mse)\n",
    "    r2 = r2_score(y_test, y_pred)\n",
    "    \n",
    "    # Adjusted R² hesaplanması:\n",
    "    n = len(y_test)                # Test setindeki örnek sayısı\n",
    "    p = x_test.shape[1]     # Kullanılan özellik sayısı\n",
    "    adjusted_r2 = 1 - (1 - r2) * (n - 1) / (n - p - 1)\n",
    "    \n",
    "    results.append({\n",
    "        \"Model\": name,\n",
    "        \"RMSE\": rmse,\n",
    "        \"R2\": r2,\n",
    "        \"Adjusted R2\": adjusted_r2\n",
    "    })\n",
    "\n",
    "\n",
    "print(\"Modellerin Performans Sonuçları:\")\n",
    "for res in results:\n",
    "    print(f\"{res['Model']}: RMSE = {res['RMSE']:.4f}, R² = {res['R2']:.4f}, Adjusted R² = {res['Adjusted R2']:.4f}\")\n",
    "\n",
    "\n",
    "best_model = max(results, key=lambda x: x[\"Adjusted R2\"])\n",
    "print(f\"\\nEn iyi model: {best_model['Model']} (Adjusted R²: {best_model['Adjusted R2']:.4f})\")\n"
   ]
  },
  {
   "cell_type": "markdown",
   "id": "c7450dd2-11e4-4a49-ac5d-e6706e01e247",
   "metadata": {},
   "source": [
    "# Hyperparameter Optimization"
   ]
  },
  {
   "cell_type": "code",
   "execution_count": 57,
   "id": "fb5b9356-7090-418e-bb45-1ce1deebed18",
   "metadata": {},
   "outputs": [
    {
     "name": "stdout",
     "output_type": "stream",
     "text": [
      "Fitting 5 folds for each of 50 candidates, totalling 250 fits\n",
      "En İyi Hiperparametreler: {'max_depth': 19, 'max_features': 'sqrt', 'min_samples_leaf': 3, 'min_samples_split': 8, 'n_estimators': 290}\n",
      "Optimized Test RMSE: 0.4278324491233473\n",
      "Optimized Test R² Score: 0.8228493785521189\n",
      "Optimized Test Adjusted R² Score: 0.8228227493718938\n"
     ]
    }
   ],
   "source": [
    "\n",
    "param_dist = {\n",
    "    \"n_estimators\": randint(50, 300),  # Ağaç sayısı (50-300 arasında)\n",
    "    \"max_depth\": randint(5, 50),  # Maksimum derinlik (5-50 arasında)\n",
    "    \"min_samples_split\": randint(2, 20),  # Bir dalın bölünebilmesi için minimum örnek sayısı\n",
    "    \"min_samples_leaf\": randint(1, 10),  # Minimum yaprak büyüklüğü\n",
    "    \"max_features\": [\"auto\", \"sqrt\", \"log2\"],  # Özellik seçimi\n",
    "}\n",
    "\n",
    "rf_reg = RandomForestRegressor(random_state=42)\n",
    "\n",
    "\n",
    "random_search = RandomizedSearchCV(\n",
    "    rf_reg, param_distributions=param_dist, \n",
    "    n_iter=50, scoring=\"r2\", cv=5, verbose=1, random_state=42, n_jobs=-1\n",
    ")\n",
    "random_search.fit(x_train, y_train)\n",
    "\n",
    "\n",
    "print(\"En İyi Hiperparametreler:\", random_search.best_params_)\n",
    "\n",
    "best_rf_reg = random_search.best_estimator_\n",
    "\n",
    "y_pred = best_rf_reg.predict(x_test)\n",
    "\n",
    "# RMSE, R² ve Adjusted R² hesapla\n",
    "mse = mean_squared_error(y_test, y_pred)\n",
    "rmse = np.sqrt(mse)\n",
    "r2 = r2_score(y_test, y_pred)\n",
    "n, p = x_test.shape\n",
    "adjusted_r2 = 1 - (1 - r2) * (n - 1) / (n - p - 1)\n",
    "\n",
    "print(\"Optimized Test RMSE:\", rmse)\n",
    "print(\"Optimized Test R² Score:\", r2)\n",
    "print(\"Optimized Test Adjusted R² Score:\", adjusted_r2)\n",
    "\n"
   ]
  }
 ],
 "metadata": {
  "kernelspec": {
   "display_name": "Python 3 (ipykernel)",
   "language": "python",
   "name": "python3"
  },
  "language_info": {
   "codemirror_mode": {
    "name": "ipython",
    "version": 3
   },
   "file_extension": ".py",
   "mimetype": "text/x-python",
   "name": "python",
   "nbconvert_exporter": "python",
   "pygments_lexer": "ipython3",
   "version": "3.9.12"
  }
 },
 "nbformat": 4,
 "nbformat_minor": 5
}
